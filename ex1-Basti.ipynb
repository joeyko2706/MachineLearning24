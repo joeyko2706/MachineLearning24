{
 "cells": [
  {
   "cell_type": "markdown",
   "metadata": {
    "id": "gkOUTDGDl9-u"
   },
   "source": [
    "# Preface\n",
    "If you are new to Colab, please familiarize yourself with it by starting with the [introduction](https://colab.research.google.com/notebooks/intro.ipynb) and then working yourself through a [small tutorial](https://colab.research.google.com/drive/1umhPVtUWH8yHD2l9A_G4fdttmgmSgC0Q).\n",
    "\n",
    "Please, always save a copy of the notebook on your google drive before you start working and only edit that one. In addition, always switch the runtime to `python 3` and for most exercises it is recommended to switch also to a GPU runtime."
   ]
  },
  {
   "cell_type": "markdown",
   "metadata": {
    "id": "FwMsIRJyi0HH"
   },
   "source": [
    "\n",
    "\n",
    "```\n",
    "# This is formatted as code\n",
    "```\n",
    "\n",
    "# Exercise 1 - Machine Learning Basics"
   ]
  },
  {
   "cell_type": "markdown",
   "metadata": {
    "id": "Z9jK7Fyti0HK"
   },
   "source": [
    "In the first part of this exercise we will will apply linear regression to a dataset of brain properties. In the second part we will apply logistic regresseion to classify different types of iris flowers.\n",
    "\n",
    "This exercise is based on [\"Learning scikit-learn -- An Introduction to Machine Learning in Python @ PyData Chicago 2016\"](https://github.com/rasbt/pydata-chicago2016-ml-tutorial)."
   ]
  },
  {
   "cell_type": "markdown",
   "metadata": {
    "id": "nZN4NFD2pQqU"
   },
   "source": [
    "Before we start we need to download the two datasets named \"dataset_brain.txt\" and \"dataset_iris.txt\" from a shared google drive to the virtual machine of colab or our local machine so we will have it available:"
   ]
  },
  {
   "cell_type": "code",
   "execution_count": 1,
   "metadata": {
    "id": "BO3MgjiiPQN_"
   },
   "outputs": [
    {
     "name": "stderr",
     "output_type": "stream",
     "text": [
      "Downloading...\n",
      "From: https://drive.google.com/uc?id=1W7s11mAK3PByOJIxPRpr1cIGhxsriI4c\n",
      "To: /mnt/c/Users/basti/Documents/ML/Germany/Exercises/dataset_brain.txt\n",
      "100%|██████████| 8.34k/8.34k [00:00<00:00, 10.0MB/s]\n",
      "Downloading...\n",
      "From: https://drive.google.com/uc?id=1lBQ55AHVbX29bEMNfLOunOE5PwYAKDpg\n",
      "To: /mnt/c/Users/basti/Documents/ML/Germany/Exercises/dataset_iris.txt\n",
      "100%|██████████| 7.78k/7.78k [00:00<00:00, 13.2MB/s]\n"
     ]
    },
    {
     "data": {
      "text/plain": [
       "'dataset_iris.txt'"
      ]
     },
     "execution_count": 1,
     "metadata": {},
     "output_type": "execute_result"
    }
   ],
   "source": [
    "import gdown\n",
    "\n",
    "url = 'https://drive.google.com/uc?id=1W7s11mAK3PByOJIxPRpr1cIGhxsriI4c'\n",
    "output = 'dataset_brain.txt'\n",
    "gdown.download(url, output, quiet=False)\n",
    "\n",
    "url = 'https://drive.google.com/uc?id=1lBQ55AHVbX29bEMNfLOunOE5PwYAKDpg'\n",
    "output = 'dataset_iris.txt'\n",
    "gdown.download(url, output, quiet=False)\n"
   ]
  },
  {
   "cell_type": "code",
   "execution_count": 2,
   "metadata": {
    "id": "ElMjTT2-tFLA"
   },
   "outputs": [
    {
     "name": "stdout",
     "output_type": "stream",
     "text": [
      "dataset_brain.txt  dataset_iris.txt  ex0.ipynb\tex1.ipynb\n"
     ]
    }
   ],
   "source": [
    "!ls"
   ]
  },
  {
   "cell_type": "markdown",
   "metadata": {
    "id": "8qpK5D5Li0HM"
   },
   "source": [
    "# Table of Contents\n",
    "\n",
    "* [1 Linear Regression](#2-Linear-Regression)\n",
    "    * [Loading the dataset](#Loading-the-dataset)\n",
    "    * [Preparing the dataset](#Preparing-the-dataset)\n",
    "    * [Fitting the model](#Fitting-the-model)\n",
    "    * [Evaluating the model](#Evaluating-the-model)\n",
    "* [2 Classification](#3-Introduction-to-Classification)\n",
    "    * [The Iris dataset](#The-Iris-dataset)\n",
    "    * [Class label encoding](#Class-label-encoding)\n",
    "    * [Scikit-learn's in-build datasets](#Scikit-learn's-in-build-datasets)\n",
    "    * [Test/train splits](#Test/train-splits)\n",
    "    * [Logistic Regression](#Logistic-Regression)\n",
    "    * [K-Nearest Neighbors](#K-Nearest-Neighbors)"
   ]
  },
  {
   "cell_type": "markdown",
   "metadata": {
    "id": "si_nJ7oii0HN"
   },
   "source": [
    "# 1  Linear Regression"
   ]
  },
  {
   "cell_type": "markdown",
   "metadata": {
    "id": "u0SAF0Svi0HP"
   },
   "source": [
    "## Loading the dataset"
   ]
  },
  {
   "cell_type": "markdown",
   "metadata": {
    "id": "861PYjzQi0HQ"
   },
   "source": [
    "We will use a dataset of an old publication which studied the relation of the brain weight to the head size for different gender and age ranges.\n",
    "\n",
    "Source: R.J. Gladstone (1905). \"A Study of the Relations of the Brain to\n",
    "to the Size of the Head\", Biometrika, Vol. 4, pp105-123\n",
    "\n",
    "The dataset is stored in a file called\n",
    "**`dataset_brain.txt`**\n",
    "\n",
    "Description: Brain weight (grams) and head size (cubic cm) for 237 adults classified by gender and age group.\n",
    "\n",
    "Variables/Columns\n",
    "- Gender (`1`=Male, `2`=Female)\n",
    "- Age Range (`1`=20-46, `2`=46+)\n",
    "- Head size (cm$^3$)\n",
    "- Brain weight (grams)\n"
   ]
  },
  {
   "cell_type": "markdown",
   "metadata": {
    "id": "imAPhwhMi0HS"
   },
   "source": [
    "### Task 1: Print the first 30 lines of the dataset and inspect it\n",
    "*hints*\n",
    "- use `open(\"path/to/file\")`\n",
    "- `readlines` is a useful method"
   ]
  },
  {
   "cell_type": "code",
   "execution_count": 3,
   "metadata": {
    "id": "yNzS7PKii0HT"
   },
   "outputs": [
    {
     "data": {
      "text/plain": [
       "['# Source: R.J. Gladstone (1905). \"A Study of the Relations of the Brain to \\n',\n",
       " '# to the Size of the Head\", Biometrika, Vol. 4, pp105-123\\n',\n",
       " '#\\n',\n",
       " '# Download link: http://www.stat.ufl.edu/~winner/data/brainhead.txt\\n',\n",
       " '#\\n',\n",
       " '# Description: Brain weight (grams) and head size (cubic cm) for 237\\n',\n",
       " '# adults classified by gender and age group.\\n',\n",
       " '#\\n',\n",
       " '# Variables/Columns\\n',\n",
       " '# Gender   8   /* 1=Male, 2=Female  */\\n',\n",
       " '# Age Range  16   /* 1=20-46, 2=46+  */\\n',\n",
       " '# Head size (cm^3)  21-24\\n',\n",
       " '# Brain weight (grams)  29-32\\n',\n",
       " '#\\n',\n",
       " 'gender age-group head-size brain-weight\\n',\n",
       " '       1       1    4512    1530\\n',\n",
       " '       1       1    3738    1297\\n',\n",
       " '       1       1    4261    1335\\n',\n",
       " '       1       1    3777    1282\\n',\n",
       " '       1       1    4177    1590\\n',\n",
       " '       1       1    3585    1300\\n',\n",
       " '       1       1    3785    1400\\n',\n",
       " '       1       1    3559    1255\\n',\n",
       " '       1       1    3613    1355\\n',\n",
       " '       1       1    3982    1375\\n',\n",
       " '       1       1    3443    1340\\n',\n",
       " '       1       1    3993    1380\\n',\n",
       " '       1       1    3640    1355\\n',\n",
       " '       1       1    4208    1522\\n',\n",
       " '       1       1    3832    1208\\n']"
      ]
     },
     "execution_count": 3,
     "metadata": {},
     "output_type": "execute_result"
    }
   ],
   "source": [
    "f = open('dataset_brain.txt')\n",
    "lines = f.readlines()\n",
    "lines[:30]"
   ]
  },
  {
   "cell_type": "markdown",
   "metadata": {
    "id": "Q1T5qH4Di0Ha"
   },
   "source": [
    "We will use [**`pandas`**](https://pandas.pydata.org/pandas-docs/stable/) to read in the dataset.\n",
    "\n",
    "\n",
    "> pandas is a Python package providing fast, flexible, and expressive data structures designed to make working with “relational” or “labeled” data both easy and intuitive. It aims to be the fundamental high-level building block for doing practical, real world data analysis in Python. Additionally, it has the broader goal of becoming the most powerful and flexible open source data analysis / manipulation tool available in any language. It is already well on its way toward this goal. (quoted from web page)\n",
    "\n",
    "\n"
   ]
  },
  {
   "cell_type": "code",
   "execution_count": 4,
   "metadata": {
    "id": "vuqqSLhji0Hb"
   },
   "outputs": [],
   "source": [
    "import pandas as pd"
   ]
  },
  {
   "cell_type": "markdown",
   "metadata": {
    "id": "yyjamOiqi0Hg"
   },
   "source": [
    "The file contains 'comma separated values' (CSV) and we will use pandas [**`DataFrame`**](https://pandas.pydata.org/pandas-docs/stable/generated/pandas.DataFrame.html#pandas.DataFrame) to handle the data."
   ]
  },
  {
   "cell_type": "code",
   "execution_count": 5,
   "metadata": {
    "id": "s4D3CW5Yi0Hh"
   },
   "outputs": [
    {
     "data": {
      "text/html": [
       "<div>\n",
       "<style scoped>\n",
       "    .dataframe tbody tr th:only-of-type {\n",
       "        vertical-align: middle;\n",
       "    }\n",
       "\n",
       "    .dataframe tbody tr th {\n",
       "        vertical-align: top;\n",
       "    }\n",
       "\n",
       "    .dataframe thead th {\n",
       "        text-align: right;\n",
       "    }\n",
       "</style>\n",
       "<table border=\"1\" class=\"dataframe\">\n",
       "  <thead>\n",
       "    <tr style=\"text-align: right;\">\n",
       "      <th></th>\n",
       "      <th>gender</th>\n",
       "      <th>age-group</th>\n",
       "      <th>head-size</th>\n",
       "      <th>brain-weight</th>\n",
       "    </tr>\n",
       "  </thead>\n",
       "  <tbody>\n",
       "    <tr>\n",
       "      <th>0</th>\n",
       "      <td>1</td>\n",
       "      <td>1</td>\n",
       "      <td>4512</td>\n",
       "      <td>1530</td>\n",
       "    </tr>\n",
       "    <tr>\n",
       "      <th>1</th>\n",
       "      <td>1</td>\n",
       "      <td>1</td>\n",
       "      <td>3738</td>\n",
       "      <td>1297</td>\n",
       "    </tr>\n",
       "    <tr>\n",
       "      <th>2</th>\n",
       "      <td>1</td>\n",
       "      <td>1</td>\n",
       "      <td>4261</td>\n",
       "      <td>1335</td>\n",
       "    </tr>\n",
       "    <tr>\n",
       "      <th>3</th>\n",
       "      <td>1</td>\n",
       "      <td>1</td>\n",
       "      <td>3777</td>\n",
       "      <td>1282</td>\n",
       "    </tr>\n",
       "    <tr>\n",
       "      <th>4</th>\n",
       "      <td>1</td>\n",
       "      <td>1</td>\n",
       "      <td>4177</td>\n",
       "      <td>1590</td>\n",
       "    </tr>\n",
       "    <tr>\n",
       "      <th>5</th>\n",
       "      <td>1</td>\n",
       "      <td>1</td>\n",
       "      <td>3585</td>\n",
       "      <td>1300</td>\n",
       "    </tr>\n",
       "    <tr>\n",
       "      <th>6</th>\n",
       "      <td>1</td>\n",
       "      <td>1</td>\n",
       "      <td>3785</td>\n",
       "      <td>1400</td>\n",
       "    </tr>\n",
       "    <tr>\n",
       "      <th>7</th>\n",
       "      <td>1</td>\n",
       "      <td>1</td>\n",
       "      <td>3559</td>\n",
       "      <td>1255</td>\n",
       "    </tr>\n",
       "    <tr>\n",
       "      <th>8</th>\n",
       "      <td>1</td>\n",
       "      <td>1</td>\n",
       "      <td>3613</td>\n",
       "      <td>1355</td>\n",
       "    </tr>\n",
       "    <tr>\n",
       "      <th>9</th>\n",
       "      <td>1</td>\n",
       "      <td>1</td>\n",
       "      <td>3982</td>\n",
       "      <td>1375</td>\n",
       "    </tr>\n",
       "  </tbody>\n",
       "</table>\n",
       "</div>"
      ],
      "text/plain": [
       "   gender  age-group  head-size  brain-weight\n",
       "0       1          1       4512          1530\n",
       "1       1          1       3738          1297\n",
       "2       1          1       4261          1335\n",
       "3       1          1       3777          1282\n",
       "4       1          1       4177          1590\n",
       "5       1          1       3585          1300\n",
       "6       1          1       3785          1400\n",
       "7       1          1       3559          1255\n",
       "8       1          1       3613          1355\n",
       "9       1          1       3982          1375"
      ]
     },
     "execution_count": 5,
     "metadata": {},
     "output_type": "execute_result"
    }
   ],
   "source": [
    "df = pd.read_csv('dataset_brain.txt',\n",
    "                 encoding='utf-8',\n",
    "                 comment='#',\n",
    "                 sep='\\s+')\n",
    "df.head(10)"
   ]
  },
  {
   "cell_type": "markdown",
   "metadata": {
    "id": "GRRBYn4kTYYK"
   },
   "source": [
    "*additional comments:*\n",
    "\n",
    "The cell above reads a text file with csv ending from the disk and converts it to a data frame. The parameter `comment` specifies which lines in the file will not be converted to data entries, `sep` specifies how data entries are separated. `\\s+` is a regular expression that matches one or more blanks or tabs between data entries. *sep* needs to be chosen according to your data format and could be other regular expressions or separating characters  like `;,\\t` (tab only), ...."
   ]
  },
  {
   "cell_type": "markdown",
   "metadata": {
    "id": "qfJ5Axi4i0Hm"
   },
   "source": [
    "Let's look at the relation of the brain weight to the head size by plotting them in a 2D scatter plot. We will use [**`matplotlib`**](https://matplotlib.org/) for that.\n",
    "\n"
   ]
  },
  {
   "cell_type": "code",
   "execution_count": 6,
   "metadata": {
    "id": "G6-g6ovui0Ho"
   },
   "outputs": [],
   "source": [
    "%matplotlib inline\n",
    "import matplotlib.pyplot as plt"
   ]
  },
  {
   "cell_type": "markdown",
   "metadata": {
    "id": "VyJ62gpQi0Ht"
   },
   "source": [
    "We can call the columns of the pandas DataFrame simply by using the keys."
   ]
  },
  {
   "cell_type": "code",
   "execution_count": 7,
   "metadata": {
    "id": "1W3_kEnJi0Hv"
   },
   "outputs": [
    {
     "data": {
      "image/png": "[encoded data removed]",
      "text/plain": [
       "<Figure size 432x288 with 1 Axes>"
      ]
     },
     "metadata": {
      "needs_background": "light"
     },
     "output_type": "display_data"
    }
   ],
   "source": [
    "plt.scatter(df['head-size'], df['brain-weight'])\n",
    "plt.xlabel('Head size (cm^3)')\n",
    "plt.ylabel('Brain weight (grams)');"
   ]
  },
  {
   "cell_type": "markdown",
   "metadata": {
    "id": "K0L-vzmUi0Hz"
   },
   "source": [
    "## Preparing the dataset"
   ]
  },
  {
   "cell_type": "markdown",
   "metadata": {
    "id": "2rFrZVFOi0H1"
   },
   "source": [
    "In order to use the dataset, we need to retrieve a [**`numpy`**](http://www.numpy.org/) array containing only the values."
   ]
  },
  {
   "cell_type": "code",
   "execution_count": 8,
   "metadata": {
    "id": "TS9kVHRLi0H2"
   },
   "outputs": [],
   "source": [
    "import numpy as np"
   ]
  },
  {
   "cell_type": "code",
   "execution_count": 9,
   "metadata": {
    "id": "ED-d8jcji0H6"
   },
   "outputs": [
    {
     "name": "stdout",
     "output_type": "stream",
     "text": [
      "[1530 1297 1335 1282 1590 1300 1400 1255 1355 1375 1340 1380 1355 1522\n",
      " 1208 1405 1358 1292 1340 1400 1357 1287 1275 1270 1635 1505 1490 1485\n",
      " 1310 1420 1318 1432 1364 1405 1432 1207 1375 1350 1236 1250 1350 1320\n",
      " 1525 1570 1340 1422 1506 1215 1311 1300 1224 1350 1335 1390 1400 1225\n",
      " 1310 1560 1330 1222 1415 1175 1330 1485 1470 1135 1310 1154 1510 1415\n",
      " 1468 1390 1380 1432 1240 1195 1225 1188 1252 1315 1245 1430 1279 1245\n",
      " 1309 1412 1120 1220 1280 1440 1370 1192 1230 1346 1290 1165 1240 1132\n",
      " 1242 1270 1218 1430 1588 1320 1290 1260 1425 1226 1360 1620 1310 1250\n",
      " 1295 1290 1290 1275 1250 1270 1362 1300 1173 1256 1440 1180 1306 1350\n",
      " 1125 1165 1312 1300 1270 1335 1450 1310 1027 1235 1260 1165 1080 1127\n",
      " 1270 1252 1200 1290 1334 1380 1140 1243 1340 1168 1322 1249 1321 1192\n",
      " 1373 1170 1265 1235 1302 1241 1078 1520 1460 1075 1280 1180 1250 1190\n",
      " 1374 1306 1202 1240 1316 1280 1350 1180 1210 1127 1324 1210 1290 1100\n",
      " 1280 1175 1160 1205 1163 1022 1243 1350 1237 1204 1090 1355 1250 1076\n",
      " 1120 1220 1240 1220 1095 1235 1105 1405 1150 1305 1220 1296 1175  955\n",
      " 1070 1320 1060 1130 1250 1225 1180 1178 1142 1130 1185 1012 1280 1103\n",
      " 1408 1300 1246 1380 1350 1060 1350 1220 1110 1215 1104 1170 1120]\n"
     ]
    }
   ],
   "source": [
    "y = df['brain-weight'].values\n",
    "print(y)"
   ]
  },
  {
   "cell_type": "markdown",
   "metadata": {
    "id": "GeXuEZ-Ii0H_"
   },
   "source": [
    "How many data points do we have?"
   ]
  },
  {
   "cell_type": "code",
   "execution_count": 10,
   "metadata": {
    "id": "70J6Vr6Vi0IA"
   },
   "outputs": [
    {
     "data": {
      "text/plain": [
       "(237,)"
      ]
     },
     "execution_count": 10,
     "metadata": {},
     "output_type": "execute_result"
    }
   ],
   "source": [
    "y.shape"
   ]
  },
  {
   "cell_type": "markdown",
   "metadata": {
    "id": "gRW3XMYAi0IE"
   },
   "source": [
    "The same with the head size:"
   ]
  },
  {
   "cell_type": "code",
   "execution_count": 11,
   "metadata": {
    "id": "Pl9IbCmRi0IG"
   },
   "outputs": [
    {
     "name": "stdout",
     "output_type": "stream",
     "text": [
      "[4512 3738 4261 3777 4177 3585 3785 3559 3613 3982 3443 3993 3640 4208\n",
      " 3832 3876 3497 3466 3095 4424 3878 4046 3804 3710 4747 4423 4036 4022\n",
      " 3454 4175 3787 3796 4103 4161 4158 3814 3527 3748 3334 3492 3962 3505\n",
      " 4315 3804 3863 4034 4308 3165 3641 3644 3891 3793 4270 4063 4012 3458\n",
      " 3890 4166 3935 3669 3866 3393 4442 4253 3727 3329 3415 3372 4430 4381\n",
      " 4008 3858 4121 4057 3824 3394 3558 3362 3930 3835 3830 3856 3249 3577\n",
      " 3933 3850 3309 3406 3506 3907 4160 3318 3662 3899 3700 3779 3473 3490\n",
      " 3654 3478 3495 3834 3876 3661 3618 3648 4032 3399 3916 4430 3695 3524\n",
      " 3571 3594 3383 3499 3589 3900 4114 3937 3399 4200 4488 3614 4051 3782\n",
      " 3391 3124 4053 3582 3666 3532 4046 3667 2857 3436 3791 3302 3104 3171\n",
      " 3572 3530 3175 3438 3903 3899 3401 3267 3451 3090 3413 3323 3680 3439\n",
      " 3853 3156 3279 3707 4006 3269 3071 3779 3548 3292 3497 3082 3248 3358\n",
      " 3803 3566 3145 3503 3571 3724 3615 3203 3609 3561 3979 3533 3689 3158\n",
      " 4005 3181 3479 3642 3632 3069 3394 3703 3165 3354 3000 3687 3556 2773\n",
      " 3058 3344 3493 3297 3360 3228 3277 3851 3067 3692 3402 3995 3318 2720\n",
      " 2937 3580 2939 2989 3586 3156 3246 3170 3268 3389 3381 2864 3740 3479\n",
      " 3647 3716 3284 4204 3735 3218 3685 3704 3214 3394 3233 3352 3391]\n"
     ]
    },
    {
     "data": {
      "text/plain": [
       "(237,)"
      ]
     },
     "execution_count": 11,
     "metadata": {},
     "output_type": "execute_result"
    }
   ],
   "source": [
    "X = df['head-size'].values\n",
    "print(X)\n",
    "X.shape"
   ]
  },
  {
   "cell_type": "markdown",
   "metadata": {
    "id": "ItZcS8Z8i0IM"
   },
   "source": [
    "In all machine learning frameworks like *scikit-learn*, *tensorflow*, *keras*, ..., it is a convention that the first data dimension depicts the number of samples, the second one the number of features. Our array has currently only one dimension. We have 237 samples, each containing only one feature value. To comply with the convention, we would like to have n arrays containing one value:"
   ]
  },
  {
   "cell_type": "code",
   "execution_count": 12,
   "metadata": {
    "id": "EwzcYpNji0IN"
   },
   "outputs": [
    {
     "name": "stdout",
     "output_type": "stream",
     "text": [
      "[[4512]\n",
      " [3738]\n",
      " [4261]\n",
      " [3777]\n",
      " [4177]\n",
      " [3585]\n",
      " [3785]\n",
      " [3559]\n",
      " [3613]\n",
      " [3982]\n",
      " [3443]\n",
      " [3993]\n",
      " [3640]\n",
      " [4208]\n",
      " [3832]\n",
      " [3876]\n",
      " [3497]\n",
      " [3466]\n",
      " [3095]\n",
      " [4424]\n",
      " [3878]\n",
      " [4046]\n",
      " [3804]\n",
      " [3710]\n",
      " [4747]\n",
      " [4423]\n",
      " [4036]\n",
      " [4022]\n",
      " [3454]\n",
      " [4175]\n",
      " [3787]\n",
      " [3796]\n",
      " [4103]\n",
      " [4161]\n",
      " [4158]\n",
      " [3814]\n",
      " [3527]\n",
      " [3748]\n",
      " [3334]\n",
      " [3492]\n",
      " [3962]\n",
      " [3505]\n",
      " [4315]\n",
      " [3804]\n",
      " [3863]\n",
      " [4034]\n",
      " [4308]\n",
      " [3165]\n",
      " [3641]\n",
      " [3644]\n",
      " [3891]\n",
      " [3793]\n",
      " [4270]\n",
      " [4063]\n",
      " [4012]\n",
      " [3458]\n",
      " [3890]\n",
      " [4166]\n",
      " [3935]\n",
      " [3669]\n",
      " [3866]\n",
      " [3393]\n",
      " [4442]\n",
      " [4253]\n",
      " [3727]\n",
      " [3329]\n",
      " [3415]\n",
      " [3372]\n",
      " [4430]\n",
      " [4381]\n",
      " [4008]\n",
      " [3858]\n",
      " [4121]\n",
      " [4057]\n",
      " [3824]\n",
      " [3394]\n",
      " [3558]\n",
      " [3362]\n",
      " [3930]\n",
      " [3835]\n",
      " [3830]\n",
      " [3856]\n",
      " [3249]\n",
      " [3577]\n",
      " [3933]\n",
      " [3850]\n",
      " [3309]\n",
      " [3406]\n",
      " [3506]\n",
      " [3907]\n",
      " [4160]\n",
      " [3318]\n",
      " [3662]\n",
      " [3899]\n",
      " [3700]\n",
      " [3779]\n",
      " [3473]\n",
      " [3490]\n",
      " [3654]\n",
      " [3478]\n",
      " [3495]\n",
      " [3834]\n",
      " [3876]\n",
      " [3661]\n",
      " [3618]\n",
      " [3648]\n",
      " [4032]\n",
      " [3399]\n",
      " [3916]\n",
      " [4430]\n",
      " [3695]\n",
      " [3524]\n",
      " [3571]\n",
      " [3594]\n",
      " [3383]\n",
      " [3499]\n",
      " [3589]\n",
      " [3900]\n",
      " [4114]\n",
      " [3937]\n",
      " [3399]\n",
      " [4200]\n",
      " [4488]\n",
      " [3614]\n",
      " [4051]\n",
      " [3782]\n",
      " [3391]\n",
      " [3124]\n",
      " [4053]\n",
      " [3582]\n",
      " [3666]\n",
      " [3532]\n",
      " [4046]\n",
      " [3667]\n",
      " [2857]\n",
      " [3436]\n",
      " [3791]\n",
      " [3302]\n",
      " [3104]\n",
      " [3171]\n",
      " [3572]\n",
      " [3530]\n",
      " [3175]\n",
      " [3438]\n",
      " [3903]\n",
      " [3899]\n",
      " [3401]\n",
      " [3267]\n",
      " [3451]\n",
      " [3090]\n",
      " [3413]\n",
      " [3323]\n",
      " [3680]\n",
      " [3439]\n",
      " [3853]\n",
      " [3156]\n",
      " [3279]\n",
      " [3707]\n",
      " [4006]\n",
      " [3269]\n",
      " [3071]\n",
      " [3779]\n",
      " [3548]\n",
      " [3292]\n",
      " [3497]\n",
      " [3082]\n",
      " [3248]\n",
      " [3358]\n",
      " [3803]\n",
      " [3566]\n",
      " [3145]\n",
      " [3503]\n",
      " [3571]\n",
      " [3724]\n",
      " [3615]\n",
      " [3203]\n",
      " [3609]\n",
      " [3561]\n",
      " [3979]\n",
      " [3533]\n",
      " [3689]\n",
      " [3158]\n",
      " [4005]\n",
      " [3181]\n",
      " [3479]\n",
      " [3642]\n",
      " [3632]\n",
      " [3069]\n",
      " [3394]\n",
      " [3703]\n",
      " [3165]\n",
      " [3354]\n",
      " [3000]\n",
      " [3687]\n",
      " [3556]\n",
      " [2773]\n",
      " [3058]\n",
      " [3344]\n",
      " [3493]\n",
      " [3297]\n",
      " [3360]\n",
      " [3228]\n",
      " [3277]\n",
      " [3851]\n",
      " [3067]\n",
      " [3692]\n",
      " [3402]\n",
      " [3995]\n",
      " [3318]\n",
      " [2720]\n",
      " [2937]\n",
      " [3580]\n",
      " [2939]\n",
      " [2989]\n",
      " [3586]\n",
      " [3156]\n",
      " [3246]\n",
      " [3170]\n",
      " [3268]\n",
      " [3389]\n",
      " [3381]\n",
      " [2864]\n",
      " [3740]\n",
      " [3479]\n",
      " [3647]\n",
      " [3716]\n",
      " [3284]\n",
      " [4204]\n",
      " [3735]\n",
      " [3218]\n",
      " [3685]\n",
      " [3704]\n",
      " [3214]\n",
      " [3394]\n",
      " [3233]\n",
      " [3352]\n",
      " [3391]]\n"
     ]
    }
   ],
   "source": [
    "X = X[:, None]\n",
    "print(X)"
   ]
  },
  {
   "cell_type": "markdown",
   "metadata": {
    "id": "NRhY9EfSUhMr"
   },
   "source": [
    "Alternatively you can use `X = X.reshape(len(X), 1)`\n",
    "or `X = X.reshape(-1, 1)` if you know that you have only one feature, but you are not sure how many values you have. Each *reshape* call can have up to one *-1* in it. This axis will then be determined by the other entries.\n"
   ]
  },
  {
   "cell_type": "markdown",
   "metadata": {
    "id": "zU_OnTSni0IS"
   },
   "source": [
    "We will use the machine learning tool and library [**`scikit-learn`**](http://scikit-learn.org/stable/) in the following.\n"
   ]
  },
  {
   "cell_type": "markdown",
   "metadata": {
    "id": "iUKgZ7Z7i0IU"
   },
   "source": [
    "A very useful functionality of scikit learn is to easily split the dataset into training and testing dataset. The dataset is split randomly with seed 123 and the test size is 30%, train size 70%:"
   ]
  },
  {
   "cell_type": "code",
   "execution_count": 13,
   "metadata": {
    "id": "iOwNPjK9i0IV"
   },
   "outputs": [],
   "source": [
    "from sklearn.model_selection import train_test_split\n",
    "\n",
    "X_train, X_test, y_train, y_test = train_test_split(\n",
    "        X, y, test_size=0.3, random_state=123)"
   ]
  },
  {
   "cell_type": "markdown",
   "metadata": {
    "id": "9Fie3Ct6UtPZ"
   },
   "source": [
    "*additional comments:*\n",
    "\n",
    " using a seed for randomization results in getting the same random numbers for each call. In this example, we would always get the same test-train-split. This may seem like a mistake at first but is surprisingly useful for **testing your code** as you know that changes in the result do not come from a different randomization*."
   ]
  },
  {
   "cell_type": "markdown",
   "metadata": {
    "id": "xz-LKCXQi0IZ"
   },
   "source": [
    "### Task 2: Plot the training and testing dataset separately again in a 2D scatter plot including axis label. Use different colors (option [`c`(olor)`='blue'`](https://matplotlib.org/api/colors_api.html)) and different marker (option [`marker='o'`](https://matplotlib.org/api/markers_api.html))"
   ]
  },
  {
   "cell_type": "code",
   "execution_count": 14,
   "metadata": {
    "id": "MXO36Xvoi0Ia",
    "scrolled": true
   },
   "outputs": [
    {
     "data": {
      "text/plain": [
       "<matplotlib.legend.Legend at 0x7f23b6e6f3c8>"
      ]
     },
     "execution_count": 14,
     "metadata": {},
     "output_type": "execute_result"
    },
    {
     "data": {
      "image/png": "[encoded data removed]",
      "text/plain": [
       "<Figure size 432x288 with 1 Axes>"
      ]
     },
     "metadata": {
      "needs_background": "light"
     },
     "output_type": "display_data"
    }
   ],
   "source": [
    "plt.scatter(X_train, y_train, c='blue', marker='o', label='Train')\n",
    "plt.scatter(X_test, y_test, c='red', marker='x', label='Test')\n",
    "plt.legend()"
   ]
  },
  {
   "cell_type": "markdown",
   "metadata": {
    "id": "Sj1ae2Lni0Ie"
   },
   "source": [
    "## Fitting the model"
   ]
  },
  {
   "cell_type": "markdown",
   "metadata": {
    "id": "6TlDuvcPi0If"
   },
   "source": [
    "We would like to fit the training data now using the [LinearRegression](http://scikit-learn.org/stable/modules/generated/sklearn.linear_model.LinearRegression.html) model of scikit-learn:\n",
    "\n",
    "This uses a linear function and the ordinary least squares method.\n",
    "\n",
    "*comment: yes, this is pretty much the same as using `curve_fit` from `scipy` with a linear fit function like you did in the good old lab excercise days*"
   ]
  },
  {
   "cell_type": "code",
   "execution_count": 15,
   "metadata": {
    "id": "nsRLMNmki0Ih"
   },
   "outputs": [],
   "source": [
    "from sklearn.linear_model import LinearRegression\n",
    "\n",
    "lr = LinearRegression()\n",
    "lr.fit(X_train, y_train)\n",
    "y_pred = lr.predict(X_test)"
   ]
  },
  {
   "cell_type": "markdown",
   "metadata": {
    "id": "YHTGgwmDi0Il"
   },
   "source": [
    "OK, what is the result of the fit?"
   ]
  },
  {
   "cell_type": "code",
   "execution_count": 16,
   "metadata": {
    "id": "O9NuZmTGi0In"
   },
   "outputs": [
    {
     "name": "stdout",
     "output_type": "stream",
     "text": [
      "Coefficients: \n",
      " [0.271117]\n",
      "Intercept: \n",
      " 302.0303319608811\n"
     ]
    }
   ],
   "source": [
    "# The coefficients\n",
    "print('Coefficients: \\n', lr.coef_)\n",
    "# The intercept\n",
    "print('Intercept: \\n', lr.intercept_)"
   ]
  },
  {
   "cell_type": "markdown",
   "metadata": {
    "id": "3nbORmlOi0Is"
   },
   "source": [
    "OK, let's plot this linear function."
   ]
  },
  {
   "cell_type": "code",
   "execution_count": 17,
   "metadata": {
    "id": "_3pPPp0ai0It"
   },
   "outputs": [
    {
     "data": {
      "image/png": "[encoded data removed]",
      "text/plain": [
       "<Figure size 432x288 with 1 Axes>"
      ]
     },
     "metadata": {
      "needs_background": "light"
     },
     "output_type": "display_data"
    }
   ],
   "source": [
    "plt.scatter(X_test, y_test,  color='blue')\n",
    "plt.plot(X_test, y_pred, color='red', linewidth=3)\n",
    "plt.xlabel('Head size (cm$^3$)')\n",
    "plt.ylabel('Brain weight (grams)');"
   ]
  },
  {
   "cell_type": "markdown",
   "metadata": {
    "id": "BYCD0W1wi0Ix"
   },
   "source": [
    "## Evaluating the model"
   ]
  },
  {
   "cell_type": "markdown",
   "metadata": {
    "id": "LYkXqiKPi0Iy"
   },
   "source": [
    "How do we know if the fit was good? We need to define a performance measure. One way is to calculate the **Coefficient of determination**, denoted R^2. It is the proportion of the variance in the dependent variable that is predictable from the independent variables. It is calculated the following way:"
   ]
  },
  {
   "cell_type": "markdown",
   "metadata": {
    "id": "C5ogTiQai0Iz"
   },
   "source": [
    " <img src=\"https://wikimedia.org/api/rest_v1/media/math/render/svg/eef0fc7006ba5f7df32eceeba7f1c5271e0100af\">"
   ]
  },
  {
   "cell_type": "code",
   "execution_count": 18,
   "metadata": {
    "id": "UtwbNrVyi0I0"
   },
   "outputs": [
    {
     "name": "stdout",
     "output_type": "stream",
     "text": [
      "R2 score: 0.63\n"
     ]
    }
   ],
   "source": [
    "sum_of_squares = ((y_test - y_pred) ** 2).sum()\n",
    "res_sum_of_squares = ((y_test - y_test.mean()) ** 2).sum()\n",
    "r2_score = 1 - (sum_of_squares / res_sum_of_squares)\n",
    "print('R2 score: %.2f' % r2_score)"
   ]
  },
  {
   "cell_type": "markdown",
   "metadata": {
    "id": "cqhUbtLGi0I4"
   },
   "source": [
    "It ranges from 0 to 1 and values close to 1 means a good agreement. Luckily, scikit-learn has several performance measures for [regression (metrics)](http://scikit-learn.org/stable/modules/model_evaluation.html#regression-metrics) already included."
   ]
  },
  {
   "cell_type": "code",
   "execution_count": 19,
   "metadata": {
    "id": "msApu3yxi0I5"
   },
   "outputs": [
    {
     "name": "stdout",
     "output_type": "stream",
     "text": [
      "Coefficient of determination: 0.63\n",
      "Mean squared error: 5068.22\n",
      "Mean absolute error: 57.08\n"
     ]
    }
   ],
   "source": [
    "from sklearn.metrics import r2_score, mean_squared_error, mean_absolute_error\n",
    "\n",
    "# Explained variance score: 1 is perfect prediction\n",
    "print('Coefficient of determination: %.2f' % r2_score(y_test, y_pred))\n",
    "# The mean squared error\n",
    "print(\"Mean squared error: %.2f\" % mean_squared_error(y_test, y_pred))\n",
    "# The mean squared error\n",
    "print(\"Mean absolute error: %.2f\" % mean_absolute_error(y_test, y_pred))\n"
   ]
  },
  {
   "cell_type": "markdown",
   "metadata": {
    "id": "lkFotwTdi0I9"
   },
   "source": [
    "# 2 Classification"
   ]
  },
  {
   "cell_type": "markdown",
   "metadata": {
    "id": "uB3QaiFZi0I-"
   },
   "source": [
    "## The Iris dataset"
   ]
  },
  {
   "cell_type": "markdown",
   "metadata": {
    "id": "OiNeufOri0I_"
   },
   "source": [
    "### Task 3: The Iris flower dataset is stored in file **`dataset_iris.txt`**. Read in the dataset using a **`pandas`** `DataFrame` and have a look at the first entries.\n",
    "*hints*:\n",
    "- look what you did for the first data inspection in Task 1\n",
    "- what is the separator in the iris dataset?"
   ]
  },
  {
   "cell_type": "code",
   "execution_count": 20,
   "metadata": {
    "id": "KJsIW77hi0JA"
   },
   "outputs": [
    {
     "data": {
      "text/html": [
       "<div>\n",
       "<style scoped>\n",
       "    .dataframe tbody tr th:only-of-type {\n",
       "        vertical-align: middle;\n",
       "    }\n",
       "\n",
       "    .dataframe tbody tr th {\n",
       "        vertical-align: top;\n",
       "    }\n",
       "\n",
       "    .dataframe thead th {\n",
       "        text-align: right;\n",
       "    }\n",
       "</style>\n",
       "<table border=\"1\" class=\"dataframe\">\n",
       "  <thead>\n",
       "    <tr style=\"text-align: right;\">\n",
       "      <th></th>\n",
       "      <th>sepal_length</th>\n",
       "      <th>sepal_width</th>\n",
       "      <th>petal_length</th>\n",
       "      <th>petal_width</th>\n",
       "      <th>class</th>\n",
       "    </tr>\n",
       "  </thead>\n",
       "  <tbody>\n",
       "    <tr>\n",
       "      <th>0</th>\n",
       "      <td>5.1</td>\n",
       "      <td>3.5</td>\n",
       "      <td>1.4</td>\n",
       "      <td>0.2</td>\n",
       "      <td>Iris-setosa</td>\n",
       "    </tr>\n",
       "    <tr>\n",
       "      <th>1</th>\n",
       "      <td>4.9</td>\n",
       "      <td>3.0</td>\n",
       "      <td>1.4</td>\n",
       "      <td>0.2</td>\n",
       "      <td>Iris-setosa</td>\n",
       "    </tr>\n",
       "    <tr>\n",
       "      <th>2</th>\n",
       "      <td>4.7</td>\n",
       "      <td>3.2</td>\n",
       "      <td>1.3</td>\n",
       "      <td>0.2</td>\n",
       "      <td>Iris-setosa</td>\n",
       "    </tr>\n",
       "    <tr>\n",
       "      <th>3</th>\n",
       "      <td>4.6</td>\n",
       "      <td>3.1</td>\n",
       "      <td>1.5</td>\n",
       "      <td>0.2</td>\n",
       "      <td>Iris-setosa</td>\n",
       "    </tr>\n",
       "    <tr>\n",
       "      <th>4</th>\n",
       "      <td>5.0</td>\n",
       "      <td>3.6</td>\n",
       "      <td>1.4</td>\n",
       "      <td>0.2</td>\n",
       "      <td>Iris-setosa</td>\n",
       "    </tr>\n",
       "  </tbody>\n",
       "</table>\n",
       "</div>"
      ],
      "text/plain": [
       "   sepal_length  sepal_width  petal_length  petal_width        class\n",
       "0           5.1          3.5           1.4          0.2  Iris-setosa\n",
       "1           4.9          3.0           1.4          0.2  Iris-setosa\n",
       "2           4.7          3.2           1.3          0.2  Iris-setosa\n",
       "3           4.6          3.1           1.5          0.2  Iris-setosa\n",
       "4           5.0          3.6           1.4          0.2  Iris-setosa"
      ]
     },
     "execution_count": 20,
     "metadata": {},
     "output_type": "execute_result"
    }
   ],
   "source": [
    "df = pd.read_csv('dataset_iris.txt',\n",
    "                 encoding='utf-8',\n",
    "                 comment='#',\n",
    "                 sep=',')\n",
    "\n",
    "df.head()"
   ]
  },
  {
   "cell_type": "markdown",
   "metadata": {
    "id": "XSohfKd2i0JH"
   },
   "source": [
    "We now need to create a 150x4 design matrix containing only our feature values. In order to do that, we need to strip the class column from the dataset. We use the [**`iloc`**](https://pandas.pydata.org/pandas-docs/stable/generated/pandas.DataFrame.iloc.html) function for that:\n",
    "\n",
    "> `DataFrame.iloc`\n",
    ">\n",
    "> Purely integer-location based indexing for selection by position.\n",
    "\n"
   ]
  },
  {
   "cell_type": "code",
   "execution_count": 21,
   "metadata": {
    "id": "WRI-pt0hi0JI",
    "scrolled": true
   },
   "outputs": [
    {
     "data": {
      "text/html": [
       "<div>\n",
       "<style scoped>\n",
       "    .dataframe tbody tr th:only-of-type {\n",
       "        vertical-align: middle;\n",
       "    }\n",
       "\n",
       "    .dataframe tbody tr th {\n",
       "        vertical-align: top;\n",
       "    }\n",
       "\n",
       "    .dataframe thead th {\n",
       "        text-align: right;\n",
       "    }\n",
       "</style>\n",
       "<table border=\"1\" class=\"dataframe\">\n",
       "  <thead>\n",
       "    <tr style=\"text-align: right;\">\n",
       "      <th></th>\n",
       "      <th>sepal_length</th>\n",
       "      <th>sepal_width</th>\n",
       "      <th>petal_length</th>\n",
       "      <th>petal_width</th>\n",
       "    </tr>\n",
       "  </thead>\n",
       "  <tbody>\n",
       "    <tr>\n",
       "      <th>0</th>\n",
       "      <td>5.1</td>\n",
       "      <td>3.5</td>\n",
       "      <td>1.4</td>\n",
       "      <td>0.2</td>\n",
       "    </tr>\n",
       "    <tr>\n",
       "      <th>1</th>\n",
       "      <td>4.9</td>\n",
       "      <td>3.0</td>\n",
       "      <td>1.4</td>\n",
       "      <td>0.2</td>\n",
       "    </tr>\n",
       "    <tr>\n",
       "      <th>2</th>\n",
       "      <td>4.7</td>\n",
       "      <td>3.2</td>\n",
       "      <td>1.3</td>\n",
       "      <td>0.2</td>\n",
       "    </tr>\n",
       "    <tr>\n",
       "      <th>3</th>\n",
       "      <td>4.6</td>\n",
       "      <td>3.1</td>\n",
       "      <td>1.5</td>\n",
       "      <td>0.2</td>\n",
       "    </tr>\n",
       "    <tr>\n",
       "      <th>4</th>\n",
       "      <td>5.0</td>\n",
       "      <td>3.6</td>\n",
       "      <td>1.4</td>\n",
       "      <td>0.2</td>\n",
       "    </tr>\n",
       "    <tr>\n",
       "      <th>...</th>\n",
       "      <td>...</td>\n",
       "      <td>...</td>\n",
       "      <td>...</td>\n",
       "      <td>...</td>\n",
       "    </tr>\n",
       "    <tr>\n",
       "      <th>145</th>\n",
       "      <td>6.7</td>\n",
       "      <td>3.0</td>\n",
       "      <td>5.2</td>\n",
       "      <td>2.3</td>\n",
       "    </tr>\n",
       "    <tr>\n",
       "      <th>146</th>\n",
       "      <td>6.3</td>\n",
       "      <td>2.5</td>\n",
       "      <td>5.0</td>\n",
       "      <td>1.9</td>\n",
       "    </tr>\n",
       "    <tr>\n",
       "      <th>147</th>\n",
       "      <td>6.5</td>\n",
       "      <td>3.0</td>\n",
       "      <td>5.2</td>\n",
       "      <td>2.0</td>\n",
       "    </tr>\n",
       "    <tr>\n",
       "      <th>148</th>\n",
       "      <td>6.2</td>\n",
       "      <td>3.4</td>\n",
       "      <td>5.4</td>\n",
       "      <td>2.3</td>\n",
       "    </tr>\n",
       "    <tr>\n",
       "      <th>149</th>\n",
       "      <td>5.9</td>\n",
       "      <td>3.0</td>\n",
       "      <td>5.1</td>\n",
       "      <td>1.8</td>\n",
       "    </tr>\n",
       "  </tbody>\n",
       "</table>\n",
       "<p>150 rows × 4 columns</p>\n",
       "</div>"
      ],
      "text/plain": [
       "     sepal_length  sepal_width  petal_length  petal_width\n",
       "0             5.1          3.5           1.4          0.2\n",
       "1             4.9          3.0           1.4          0.2\n",
       "2             4.7          3.2           1.3          0.2\n",
       "3             4.6          3.1           1.5          0.2\n",
       "4             5.0          3.6           1.4          0.2\n",
       "..            ...          ...           ...          ...\n",
       "145           6.7          3.0           5.2          2.3\n",
       "146           6.3          2.5           5.0          1.9\n",
       "147           6.5          3.0           5.2          2.0\n",
       "148           6.2          3.4           5.4          2.3\n",
       "149           5.9          3.0           5.1          1.8\n",
       "\n",
       "[150 rows x 4 columns]"
      ]
     },
     "execution_count": 21,
     "metadata": {},
     "output_type": "execute_result"
    }
   ],
   "source": [
    "X = df.iloc[:, :4]\n",
    "X"
   ]
  },
  {
   "cell_type": "markdown",
   "metadata": {
    "id": "-XimWllPi0JM"
   },
   "source": [
    "And now we get 150$\\times$4 numpy array (design matrix) by using the values function:"
   ]
  },
  {
   "cell_type": "code",
   "execution_count": 22,
   "metadata": {
    "id": "lHfu7r02i0JO"
   },
   "outputs": [
    {
     "data": {
      "text/plain": [
       "array([[5.1, 3.5, 1.4, 0.2],\n",
       "       [4.9, 3. , 1.4, 0.2],\n",
       "       [4.7, 3.2, 1.3, 0.2],\n",
       "       [4.6, 3.1, 1.5, 0.2],\n",
       "       [5. , 3.6, 1.4, 0.2],\n",
       "       [5.4, 3.9, 1.7, 0.4],\n",
       "       [4.6, 3.4, 1.4, 0.3],\n",
       "       [5. , 3.4, 1.5, 0.2],\n",
       "       [4.4, 2.9, 1.4, 0.2],\n",
       "       [4.9, 3.1, 1.5, 0.1],\n",
       "       [5.4, 3.7, 1.5, 0.2],\n",
       "       [4.8, 3.4, 1.6, 0.2],\n",
       "       [4.8, 3. , 1.4, 0.1],\n",
       "       [4.3, 3. , 1.1, 0.1],\n",
       "       [5.8, 4. , 1.2, 0.2],\n",
       "       [5.7, 4.4, 1.5, 0.4],\n",
       "       [5.4, 3.9, 1.3, 0.4],\n",
       "       [5.1, 3.5, 1.4, 0.3],\n",
       "       [5.7, 3.8, 1.7, 0.3],\n",
       "       [5.1, 3.8, 1.5, 0.3],\n",
       "       [5.4, 3.4, 1.7, 0.2],\n",
       "       [5.1, 3.7, 1.5, 0.4],\n",
       "       [4.6, 3.6, 1. , 0.2],\n",
       "       [5.1, 3.3, 1.7, 0.5],\n",
       "       [4.8, 3.4, 1.9, 0.2],\n",
       "       [5. , 3. , 1.6, 0.2],\n",
       "       [5. , 3.4, 1.6, 0.4],\n",
       "       [5.2, 3.5, 1.5, 0.2],\n",
       "       [5.2, 3.4, 1.4, 0.2],\n",
       "       [4.7, 3.2, 1.6, 0.2],\n",
       "       [4.8, 3.1, 1.6, 0.2],\n",
       "       [5.4, 3.4, 1.5, 0.4],\n",
       "       [5.2, 4.1, 1.5, 0.1],\n",
       "       [5.5, 4.2, 1.4, 0.2],\n",
       "       [4.9, 3.1, 1.5, 0.1],\n",
       "       [5. , 3.2, 1.2, 0.2],\n",
       "       [5.5, 3.5, 1.3, 0.2],\n",
       "       [4.9, 3.1, 1.5, 0.1],\n",
       "       [4.4, 3. , 1.3, 0.2],\n",
       "       [5.1, 3.4, 1.5, 0.2],\n",
       "       [5. , 3.5, 1.3, 0.3],\n",
       "       [4.5, 2.3, 1.3, 0.3],\n",
       "       [4.4, 3.2, 1.3, 0.2],\n",
       "       [5. , 3.5, 1.6, 0.6],\n",
       "       [5.1, 3.8, 1.9, 0.4],\n",
       "       [4.8, 3. , 1.4, 0.3],\n",
       "       [5.1, 3.8, 1.6, 0.2],\n",
       "       [4.6, 3.2, 1.4, 0.2],\n",
       "       [5.3, 3.7, 1.5, 0.2],\n",
       "       [5. , 3.3, 1.4, 0.2],\n",
       "       [7. , 3.2, 4.7, 1.4],\n",
       "       [6.4, 3.2, 4.5, 1.5],\n",
       "       [6.9, 3.1, 4.9, 1.5],\n",
       "       [5.5, 2.3, 4. , 1.3],\n",
       "       [6.5, 2.8, 4.6, 1.5],\n",
       "       [5.7, 2.8, 4.5, 1.3],\n",
       "       [6.3, 3.3, 4.7, 1.6],\n",
       "       [4.9, 2.4, 3.3, 1. ],\n",
       "       [6.6, 2.9, 4.6, 1.3],\n",
       "       [5.2, 2.7, 3.9, 1.4],\n",
       "       [5. , 2. , 3.5, 1. ],\n",
       "       [5.9, 3. , 4.2, 1.5],\n",
       "       [6. , 2.2, 4. , 1. ],\n",
       "       [6.1, 2.9, 4.7, 1.4],\n",
       "       [5.6, 2.9, 3.6, 1.3],\n",
       "       [6.7, 3.1, 4.4, 1.4],\n",
       "       [5.6, 3. , 4.5, 1.5],\n",
       "       [5.8, 2.7, 4.1, 1. ],\n",
       "       [6.2, 2.2, 4.5, 1.5],\n",
       "       [5.6, 2.5, 3.9, 1.1],\n",
       "       [5.9, 3.2, 4.8, 1.8],\n",
       "       [6.1, 2.8, 4. , 1.3],\n",
       "       [6.3, 2.5, 4.9, 1.5],\n",
       "       [6.1, 2.8, 4.7, 1.2],\n",
       "       [6.4, 2.9, 4.3, 1.3],\n",
       "       [6.6, 3. , 4.4, 1.4],\n",
       "       [6.8, 2.8, 4.8, 1.4],\n",
       "       [6.7, 3. , 5. , 1.7],\n",
       "       [6. , 2.9, 4.5, 1.5],\n",
       "       [5.7, 2.6, 3.5, 1. ],\n",
       "       [5.5, 2.4, 3.8, 1.1],\n",
       "       [5.5, 2.4, 3.7, 1. ],\n",
       "       [5.8, 2.7, 3.9, 1.2],\n",
       "       [6. , 2.7, 5.1, 1.6],\n",
       "       [5.4, 3. , 4.5, 1.5],\n",
       "       [6. , 3.4, 4.5, 1.6],\n",
       "       [6.7, 3.1, 4.7, 1.5],\n",
       "       [6.3, 2.3, 4.4, 1.3],\n",
       "       [5.6, 3. , 4.1, 1.3],\n",
       "       [5.5, 2.5, 4. , 1.3],\n",
       "       [5.5, 2.6, 4.4, 1.2],\n",
       "       [6.1, 3. , 4.6, 1.4],\n",
       "       [5.8, 2.6, 4. , 1.2],\n",
       "       [5. , 2.3, 3.3, 1. ],\n",
       "       [5.6, 2.7, 4.2, 1.3],\n",
       "       [5.7, 3. , 4.2, 1.2],\n",
       "       [5.7, 2.9, 4.2, 1.3],\n",
       "       [6.2, 2.9, 4.3, 1.3],\n",
       "       [5.1, 2.5, 3. , 1.1],\n",
       "       [5.7, 2.8, 4.1, 1.3],\n",
       "       [6.3, 3.3, 6. , 2.5],\n",
       "       [5.8, 2.7, 5.1, 1.9],\n",
       "       [7.1, 3. , 5.9, 2.1],\n",
       "       [6.3, 2.9, 5.6, 1.8],\n",
       "       [6.5, 3. , 5.8, 2.2],\n",
       "       [7.6, 3. , 6.6, 2.1],\n",
       "       [4.9, 2.5, 4.5, 1.7],\n",
       "       [7.3, 2.9, 6.3, 1.8],\n",
       "       [6.7, 2.5, 5.8, 1.8],\n",
       "       [7.2, 3.6, 6.1, 2.5],\n",
       "       [6.5, 3.2, 5.1, 2. ],\n",
       "       [6.4, 2.7, 5.3, 1.9],\n",
       "       [6.8, 3. , 5.5, 2.1],\n",
       "       [5.7, 2.5, 5. , 2. ],\n",
       "       [5.8, 2.8, 5.1, 2.4],\n",
       "       [6.4, 3.2, 5.3, 2.3],\n",
       "       [6.5, 3. , 5.5, 1.8],\n",
       "       [7.7, 3.8, 6.7, 2.2],\n",
       "       [7.7, 2.6, 6.9, 2.3],\n",
       "       [6. , 2.2, 5. , 1.5],\n",
       "       [6.9, 3.2, 5.7, 2.3],\n",
       "       [5.6, 2.8, 4.9, 2. ],\n",
       "       [7.7, 2.8, 6.7, 2. ],\n",
       "       [6.3, 2.7, 4.9, 1.8],\n",
       "       [6.7, 3.3, 5.7, 2.1],\n",
       "       [7.2, 3.2, 6. , 1.8],\n",
       "       [6.2, 2.8, 4.8, 1.8],\n",
       "       [6.1, 3. , 4.9, 1.8],\n",
       "       [6.4, 2.8, 5.6, 2.1],\n",
       "       [7.2, 3. , 5.8, 1.6],\n",
       "       [7.4, 2.8, 6.1, 1.9],\n",
       "       [7.9, 3.8, 6.4, 2. ],\n",
       "       [6.4, 2.8, 5.6, 2.2],\n",
       "       [6.3, 2.8, 5.1, 1.5],\n",
       "       [6.1, 2.6, 5.6, 1.4],\n",
       "       [7.7, 3. , 6.1, 2.3],\n",
       "       [6.3, 3.4, 5.6, 2.4],\n",
       "       [6.4, 3.1, 5.5, 1.8],\n",
       "       [6. , 3. , 4.8, 1.8],\n",
       "       [6.9, 3.1, 5.4, 2.1],\n",
       "       [6.7, 3.1, 5.6, 2.4],\n",
       "       [6.9, 3.1, 5.1, 2.3],\n",
       "       [5.8, 2.7, 5.1, 1.9],\n",
       "       [6.8, 3.2, 5.9, 2.3],\n",
       "       [6.7, 3.3, 5.7, 2.5],\n",
       "       [6.7, 3. , 5.2, 2.3],\n",
       "       [6.3, 2.5, 5. , 1.9],\n",
       "       [6.5, 3. , 5.2, 2. ],\n",
       "       [6.2, 3.4, 5.4, 2.3],\n",
       "       [5.9, 3. , 5.1, 1.8]])"
      ]
     },
     "execution_count": 22,
     "metadata": {},
     "output_type": "execute_result"
    }
   ],
   "source": [
    "X = X.values\n",
    "X"
   ]
  },
  {
   "cell_type": "markdown",
   "metadata": {
    "id": "BlOXZEfBi0JR"
   },
   "source": [
    "However, we also need a numpy array containing the class labels in order to classify. Let's get the class column and create a numpy array out of it:"
   ]
  },
  {
   "cell_type": "code",
   "execution_count": 23,
   "metadata": {
    "id": "zHX8oUzFi0JS"
   },
   "outputs": [
    {
     "data": {
      "text/plain": [
       "array(['Iris-setosa', 'Iris-setosa', 'Iris-setosa', 'Iris-setosa',\n",
       "       'Iris-setosa', 'Iris-setosa', 'Iris-setosa', 'Iris-setosa',\n",
       "       'Iris-setosa', 'Iris-setosa', 'Iris-setosa', 'Iris-setosa',\n",
       "       'Iris-setosa', 'Iris-setosa', 'Iris-setosa', 'Iris-setosa',\n",
       "       'Iris-setosa', 'Iris-setosa', 'Iris-setosa', 'Iris-setosa',\n",
       "       'Iris-setosa', 'Iris-setosa', 'Iris-setosa', 'Iris-setosa',\n",
       "       'Iris-setosa', 'Iris-setosa', 'Iris-setosa', 'Iris-setosa',\n",
       "       'Iris-setosa', 'Iris-setosa', 'Iris-setosa', 'Iris-setosa',\n",
       "       'Iris-setosa', 'Iris-setosa', 'Iris-setosa', 'Iris-setosa',\n",
       "       'Iris-setosa', 'Iris-setosa', 'Iris-setosa', 'Iris-setosa',\n",
       "       'Iris-setosa', 'Iris-setosa', 'Iris-setosa', 'Iris-setosa',\n",
       "       'Iris-setosa', 'Iris-setosa', 'Iris-setosa', 'Iris-setosa',\n",
       "       'Iris-setosa', 'Iris-setosa', 'Iris-versicolor', 'Iris-versicolor',\n",
       "       'Iris-versicolor', 'Iris-versicolor', 'Iris-versicolor',\n",
       "       'Iris-versicolor', 'Iris-versicolor', 'Iris-versicolor',\n",
       "       'Iris-versicolor', 'Iris-versicolor', 'Iris-versicolor',\n",
       "       'Iris-versicolor', 'Iris-versicolor', 'Iris-versicolor',\n",
       "       'Iris-versicolor', 'Iris-versicolor', 'Iris-versicolor',\n",
       "       'Iris-versicolor', 'Iris-versicolor', 'Iris-versicolor',\n",
       "       'Iris-versicolor', 'Iris-versicolor', 'Iris-versicolor',\n",
       "       'Iris-versicolor', 'Iris-versicolor', 'Iris-versicolor',\n",
       "       'Iris-versicolor', 'Iris-versicolor', 'Iris-versicolor',\n",
       "       'Iris-versicolor', 'Iris-versicolor', 'Iris-versicolor',\n",
       "       'Iris-versicolor', 'Iris-versicolor', 'Iris-versicolor',\n",
       "       'Iris-versicolor', 'Iris-versicolor', 'Iris-versicolor',\n",
       "       'Iris-versicolor', 'Iris-versicolor', 'Iris-versicolor',\n",
       "       'Iris-versicolor', 'Iris-versicolor', 'Iris-versicolor',\n",
       "       'Iris-versicolor', 'Iris-versicolor', 'Iris-versicolor',\n",
       "       'Iris-versicolor', 'Iris-versicolor', 'Iris-versicolor',\n",
       "       'Iris-virginica', 'Iris-virginica', 'Iris-virginica',\n",
       "       'Iris-virginica', 'Iris-virginica', 'Iris-virginica',\n",
       "       'Iris-virginica', 'Iris-virginica', 'Iris-virginica',\n",
       "       'Iris-virginica', 'Iris-virginica', 'Iris-virginica',\n",
       "       'Iris-virginica', 'Iris-virginica', 'Iris-virginica',\n",
       "       'Iris-virginica', 'Iris-virginica', 'Iris-virginica',\n",
       "       'Iris-virginica', 'Iris-virginica', 'Iris-virginica',\n",
       "       'Iris-virginica', 'Iris-virginica', 'Iris-virginica',\n",
       "       'Iris-virginica', 'Iris-virginica', 'Iris-virginica',\n",
       "       'Iris-virginica', 'Iris-virginica', 'Iris-virginica',\n",
       "       'Iris-virginica', 'Iris-virginica', 'Iris-virginica',\n",
       "       'Iris-virginica', 'Iris-virginica', 'Iris-virginica',\n",
       "       'Iris-virginica', 'Iris-virginica', 'Iris-virginica',\n",
       "       'Iris-virginica', 'Iris-virginica', 'Iris-virginica',\n",
       "       'Iris-virginica', 'Iris-virginica', 'Iris-virginica',\n",
       "       'Iris-virginica', 'Iris-virginica', 'Iris-virginica',\n",
       "       'Iris-virginica', 'Iris-virginica'], dtype=object)"
      ]
     },
     "execution_count": 23,
     "metadata": {},
     "output_type": "execute_result"
    }
   ],
   "source": [
    "y = df['class'].values\n",
    "y"
   ]
  },
  {
   "cell_type": "markdown",
   "metadata": {
    "id": "3vUo7M_hi0JW"
   },
   "source": [
    "We could also just inspect the targets by only looking at unique values:"
   ]
  },
  {
   "cell_type": "code",
   "execution_count": 24,
   "metadata": {
    "id": "1g31gE6fi0JX"
   },
   "outputs": [
    {
     "data": {
      "text/plain": [
       "array(['Iris-setosa', 'Iris-versicolor', 'Iris-virginica'], dtype=object)"
      ]
     },
     "execution_count": 24,
     "metadata": {},
     "output_type": "execute_result"
    }
   ],
   "source": [
    "np.unique(y)"
   ]
  },
  {
   "cell_type": "markdown",
   "metadata": {
    "id": "eaPRj_xUi0Jf"
   },
   "source": [
    "## Class label encoding"
   ]
  },
  {
   "cell_type": "markdown",
   "metadata": {
    "id": "tKDEkX-4i0Jh"
   },
   "source": [
    "We will now use the **`LabelEncoder`** class to convert the class labels into numerical labels:"
   ]
  },
  {
   "cell_type": "code",
   "execution_count": 25,
   "metadata": {
    "id": "zmItMbUti0Ji"
   },
   "outputs": [
    {
     "data": {
      "text/plain": [
       "array(['Iris-setosa', 'Iris-versicolor', 'Iris-virginica'], dtype=object)"
      ]
     },
     "execution_count": 25,
     "metadata": {},
     "output_type": "execute_result"
    }
   ],
   "source": [
    "from sklearn.preprocessing import LabelEncoder\n",
    "\n",
    "l_encoder = LabelEncoder()\n",
    "l_encoder.fit(y)\n",
    "l_encoder.classes_"
   ]
  },
  {
   "cell_type": "markdown",
   "metadata": {
    "id": "06qH4azGi0Jl"
   },
   "source": [
    "Simply, by using **`transform`**, we can convert it into numerical targets"
   ]
  },
  {
   "cell_type": "code",
   "execution_count": 26,
   "metadata": {
    "id": "Hc3p1FKHi0Jm"
   },
   "outputs": [
    {
     "data": {
      "text/plain": [
       "array([0, 0, 0, 0, 0, 0, 0, 0, 0, 0, 0, 0, 0, 0, 0, 0, 0, 0, 0, 0, 0, 0,\n",
       "       0, 0, 0, 0, 0, 0, 0, 0, 0, 0, 0, 0, 0, 0, 0, 0, 0, 0, 0, 0, 0, 0,\n",
       "       0, 0, 0, 0, 0, 0, 1, 1, 1, 1, 1, 1, 1, 1, 1, 1, 1, 1, 1, 1, 1, 1,\n",
       "       1, 1, 1, 1, 1, 1, 1, 1, 1, 1, 1, 1, 1, 1, 1, 1, 1, 1, 1, 1, 1, 1,\n",
       "       1, 1, 1, 1, 1, 1, 1, 1, 1, 1, 1, 1, 2, 2, 2, 2, 2, 2, 2, 2, 2, 2,\n",
       "       2, 2, 2, 2, 2, 2, 2, 2, 2, 2, 2, 2, 2, 2, 2, 2, 2, 2, 2, 2, 2, 2,\n",
       "       2, 2, 2, 2, 2, 2, 2, 2, 2, 2, 2, 2, 2, 2, 2, 2, 2, 2])"
      ]
     },
     "execution_count": 26,
     "metadata": {},
     "output_type": "execute_result"
    }
   ],
   "source": [
    "y_enc = l_encoder.transform(y)\n",
    "y_enc"
   ]
  },
  {
   "cell_type": "markdown",
   "metadata": {
    "id": "yP6ghqFSi0Jr"
   },
   "source": [
    "Or just the unique values:"
   ]
  },
  {
   "cell_type": "code",
   "execution_count": 27,
   "metadata": {
    "id": "vE5XVE9Ei0Js"
   },
   "outputs": [
    {
     "data": {
      "text/plain": [
       "array([0, 1, 2])"
      ]
     },
     "execution_count": 27,
     "metadata": {},
     "output_type": "execute_result"
    }
   ],
   "source": [
    "np.unique(y_enc)"
   ]
  },
  {
   "cell_type": "markdown",
   "metadata": {
    "id": "Q4h-7M8Fi0Jx"
   },
   "source": [
    "We can also convert it back by using **`inverse_transform`**:"
   ]
  },
  {
   "cell_type": "code",
   "execution_count": 28,
   "metadata": {
    "id": "nLBV0DE4i0Jy"
   },
   "outputs": [
    {
     "data": {
      "text/plain": [
       "array(['Iris-setosa', 'Iris-versicolor', 'Iris-virginica'], dtype=object)"
      ]
     },
     "execution_count": 28,
     "metadata": {},
     "output_type": "execute_result"
    }
   ],
   "source": [
    "np.unique(l_encoder.inverse_transform(y_enc))"
   ]
  },
  {
   "cell_type": "markdown",
   "metadata": {
    "id": "1ttUYt27i0J2"
   },
   "source": [
    "## Scikit-learn's in-build datasets"
   ]
  },
  {
   "cell_type": "markdown",
   "metadata": {
    "id": "Kn1LqjlFi0J3"
   },
   "source": [
    "Scikit-learn has also a couple of [in-build datasets](http://scikit-learn.org/stable/datasets/index.html). The iris dataset is part of it, which you can simply load:"
   ]
  },
  {
   "cell_type": "code",
   "execution_count": 29,
   "metadata": {
    "id": "YDOmMHDFi0J4"
   },
   "outputs": [
    {
     "name": "stdout",
     "output_type": "stream",
     "text": [
      ".. _iris_dataset:\n",
      "\n",
      "Iris plants dataset\n",
      "--------------------\n",
      "\n",
      "**Data Set Characteristics:**\n",
      "\n",
      "    :Number of Instances: 150 (50 in each of three classes)\n",
      "    :Number of Attributes: 4 numeric, predictive attributes and the class\n",
      "    :Attribute Information:\n",
      "        - sepal length in cm\n",
      "        - sepal width in cm\n",
      "        - petal length in cm\n",
      "        - petal width in cm\n",
      "        - class:\n",
      "                - Iris-Setosa\n",
      "                - Iris-Versicolour\n",
      "                - Iris-Virginica\n",
      "                \n",
      "    :Summary Statistics:\n",
      "\n",
      "    ============== ==== ==== ======= ===== ====================\n",
      "                    Min  Max   Mean    SD   Class Correlation\n",
      "    ============== ==== ==== ======= ===== ====================\n",
      "    sepal length:   4.3  7.9   5.84   0.83    0.7826\n",
      "    sepal width:    2.0  4.4   3.05   0.43   -0.4194\n",
      "    petal length:   1.0  6.9   3.76   1.76    0.9490  (high!)\n",
      "    petal width:    0.1  2.5   1.20   0.76    0.9565  (high!)\n",
      "    ============== ==== ==== ======= ===== ====================\n",
      "\n",
      "    :Missing Attribute Values: None\n",
      "    :Class Distribution: 33.3% for each of 3 classes.\n",
      "    :Creator: R.A. Fisher\n",
      "    :Donor: Michael Marshall (MARSHALL%PLU@io.arc.nasa.gov)\n",
      "    :Date: July, 1988\n",
      "\n",
      "The famous Iris database, first used by Sir R.A. Fisher. The dataset is taken\n",
      "from Fisher's paper. Note that it's the same as in R, but not as in the UCI\n",
      "Machine Learning Repository, which has two wrong data points.\n",
      "\n",
      "This is perhaps the best known database to be found in the\n",
      "pattern recognition literature.  Fisher's paper is a classic in the field and\n",
      "is referenced frequently to this day.  (See Duda & Hart, for example.)  The\n",
      "data set contains 3 classes of 50 instances each, where each class refers to a\n",
      "type of iris plant.  One class is linearly separable from the other 2; the\n",
      "latter are NOT linearly separable from each other.\n",
      "\n",
      ".. topic:: References\n",
      "\n",
      "   - Fisher, R.A. \"The use of multiple measurements in taxonomic problems\"\n",
      "     Annual Eugenics, 7, Part II, 179-188 (1936); also in \"Contributions to\n",
      "     Mathematical Statistics\" (John Wiley, NY, 1950).\n",
      "   - Duda, R.O., & Hart, P.E. (1973) Pattern Classification and Scene Analysis.\n",
      "     (Q327.D83) John Wiley & Sons.  ISBN 0-471-22361-1.  See page 218.\n",
      "   - Dasarathy, B.V. (1980) \"Nosing Around the Neighborhood: A New System\n",
      "     Structure and Classification Rule for Recognition in Partially Exposed\n",
      "     Environments\".  IEEE Transactions on Pattern Analysis and Machine\n",
      "     Intelligence, Vol. PAMI-2, No. 1, 67-71.\n",
      "   - Gates, G.W. (1972) \"The Reduced Nearest Neighbor Rule\".  IEEE Transactions\n",
      "     on Information Theory, May 1972, 431-433.\n",
      "   - See also: 1988 MLC Proceedings, 54-64.  Cheeseman et al\"s AUTOCLASS II\n",
      "     conceptual clustering system finds 3 classes in the data.\n",
      "   - Many, many more ...\n"
     ]
    }
   ],
   "source": [
    "from sklearn.datasets import load_iris\n",
    "\n",
    "iris = load_iris()\n",
    "print(iris['DESCR'])"
   ]
  },
  {
   "cell_type": "markdown",
   "metadata": {
    "id": "GWXmrZVOi0J8"
   },
   "source": [
    "We get the feature design matrix by calling data:"
   ]
  },
  {
   "cell_type": "code",
   "execution_count": 30,
   "metadata": {
    "id": "qNZzG4Kyi0J-"
   },
   "outputs": [
    {
     "data": {
      "text/plain": [
       "array([[5.1, 3.5, 1.4, 0.2],\n",
       "       [4.9, 3. , 1.4, 0.2],\n",
       "       [4.7, 3.2, 1.3, 0.2],\n",
       "       [4.6, 3.1, 1.5, 0.2],\n",
       "       [5. , 3.6, 1.4, 0.2],\n",
       "       [5.4, 3.9, 1.7, 0.4],\n",
       "       [4.6, 3.4, 1.4, 0.3],\n",
       "       [5. , 3.4, 1.5, 0.2],\n",
       "       [4.4, 2.9, 1.4, 0.2],\n",
       "       [4.9, 3.1, 1.5, 0.1],\n",
       "       [5.4, 3.7, 1.5, 0.2],\n",
       "       [4.8, 3.4, 1.6, 0.2],\n",
       "       [4.8, 3. , 1.4, 0.1],\n",
       "       [4.3, 3. , 1.1, 0.1],\n",
       "       [5.8, 4. , 1.2, 0.2],\n",
       "       [5.7, 4.4, 1.5, 0.4],\n",
       "       [5.4, 3.9, 1.3, 0.4],\n",
       "       [5.1, 3.5, 1.4, 0.3],\n",
       "       [5.7, 3.8, 1.7, 0.3],\n",
       "       [5.1, 3.8, 1.5, 0.3],\n",
       "       [5.4, 3.4, 1.7, 0.2],\n",
       "       [5.1, 3.7, 1.5, 0.4],\n",
       "       [4.6, 3.6, 1. , 0.2],\n",
       "       [5.1, 3.3, 1.7, 0.5],\n",
       "       [4.8, 3.4, 1.9, 0.2],\n",
       "       [5. , 3. , 1.6, 0.2],\n",
       "       [5. , 3.4, 1.6, 0.4],\n",
       "       [5.2, 3.5, 1.5, 0.2],\n",
       "       [5.2, 3.4, 1.4, 0.2],\n",
       "       [4.7, 3.2, 1.6, 0.2],\n",
       "       [4.8, 3.1, 1.6, 0.2],\n",
       "       [5.4, 3.4, 1.5, 0.4],\n",
       "       [5.2, 4.1, 1.5, 0.1],\n",
       "       [5.5, 4.2, 1.4, 0.2],\n",
       "       [4.9, 3.1, 1.5, 0.2],\n",
       "       [5. , 3.2, 1.2, 0.2],\n",
       "       [5.5, 3.5, 1.3, 0.2],\n",
       "       [4.9, 3.6, 1.4, 0.1],\n",
       "       [4.4, 3. , 1.3, 0.2],\n",
       "       [5.1, 3.4, 1.5, 0.2],\n",
       "       [5. , 3.5, 1.3, 0.3],\n",
       "       [4.5, 2.3, 1.3, 0.3],\n",
       "       [4.4, 3.2, 1.3, 0.2],\n",
       "       [5. , 3.5, 1.6, 0.6],\n",
       "       [5.1, 3.8, 1.9, 0.4],\n",
       "       [4.8, 3. , 1.4, 0.3],\n",
       "       [5.1, 3.8, 1.6, 0.2],\n",
       "       [4.6, 3.2, 1.4, 0.2],\n",
       "       [5.3, 3.7, 1.5, 0.2],\n",
       "       [5. , 3.3, 1.4, 0.2],\n",
       "       [7. , 3.2, 4.7, 1.4],\n",
       "       [6.4, 3.2, 4.5, 1.5],\n",
       "       [6.9, 3.1, 4.9, 1.5],\n",
       "       [5.5, 2.3, 4. , 1.3],\n",
       "       [6.5, 2.8, 4.6, 1.5],\n",
       "       [5.7, 2.8, 4.5, 1.3],\n",
       "       [6.3, 3.3, 4.7, 1.6],\n",
       "       [4.9, 2.4, 3.3, 1. ],\n",
       "       [6.6, 2.9, 4.6, 1.3],\n",
       "       [5.2, 2.7, 3.9, 1.4],\n",
       "       [5. , 2. , 3.5, 1. ],\n",
       "       [5.9, 3. , 4.2, 1.5],\n",
       "       [6. , 2.2, 4. , 1. ],\n",
       "       [6.1, 2.9, 4.7, 1.4],\n",
       "       [5.6, 2.9, 3.6, 1.3],\n",
       "       [6.7, 3.1, 4.4, 1.4],\n",
       "       [5.6, 3. , 4.5, 1.5],\n",
       "       [5.8, 2.7, 4.1, 1. ],\n",
       "       [6.2, 2.2, 4.5, 1.5],\n",
       "       [5.6, 2.5, 3.9, 1.1],\n",
       "       [5.9, 3.2, 4.8, 1.8],\n",
       "       [6.1, 2.8, 4. , 1.3],\n",
       "       [6.3, 2.5, 4.9, 1.5],\n",
       "       [6.1, 2.8, 4.7, 1.2],\n",
       "       [6.4, 2.9, 4.3, 1.3],\n",
       "       [6.6, 3. , 4.4, 1.4],\n",
       "       [6.8, 2.8, 4.8, 1.4],\n",
       "       [6.7, 3. , 5. , 1.7],\n",
       "       [6. , 2.9, 4.5, 1.5],\n",
       "       [5.7, 2.6, 3.5, 1. ],\n",
       "       [5.5, 2.4, 3.8, 1.1],\n",
       "       [5.5, 2.4, 3.7, 1. ],\n",
       "       [5.8, 2.7, 3.9, 1.2],\n",
       "       [6. , 2.7, 5.1, 1.6],\n",
       "       [5.4, 3. , 4.5, 1.5],\n",
       "       [6. , 3.4, 4.5, 1.6],\n",
       "       [6.7, 3.1, 4.7, 1.5],\n",
       "       [6.3, 2.3, 4.4, 1.3],\n",
       "       [5.6, 3. , 4.1, 1.3],\n",
       "       [5.5, 2.5, 4. , 1.3],\n",
       "       [5.5, 2.6, 4.4, 1.2],\n",
       "       [6.1, 3. , 4.6, 1.4],\n",
       "       [5.8, 2.6, 4. , 1.2],\n",
       "       [5. , 2.3, 3.3, 1. ],\n",
       "       [5.6, 2.7, 4.2, 1.3],\n",
       "       [5.7, 3. , 4.2, 1.2],\n",
       "       [5.7, 2.9, 4.2, 1.3],\n",
       "       [6.2, 2.9, 4.3, 1.3],\n",
       "       [5.1, 2.5, 3. , 1.1],\n",
       "       [5.7, 2.8, 4.1, 1.3],\n",
       "       [6.3, 3.3, 6. , 2.5],\n",
       "       [5.8, 2.7, 5.1, 1.9],\n",
       "       [7.1, 3. , 5.9, 2.1],\n",
       "       [6.3, 2.9, 5.6, 1.8],\n",
       "       [6.5, 3. , 5.8, 2.2],\n",
       "       [7.6, 3. , 6.6, 2.1],\n",
       "       [4.9, 2.5, 4.5, 1.7],\n",
       "       [7.3, 2.9, 6.3, 1.8],\n",
       "       [6.7, 2.5, 5.8, 1.8],\n",
       "       [7.2, 3.6, 6.1, 2.5],\n",
       "       [6.5, 3.2, 5.1, 2. ],\n",
       "       [6.4, 2.7, 5.3, 1.9],\n",
       "       [6.8, 3. , 5.5, 2.1],\n",
       "       [5.7, 2.5, 5. , 2. ],\n",
       "       [5.8, 2.8, 5.1, 2.4],\n",
       "       [6.4, 3.2, 5.3, 2.3],\n",
       "       [6.5, 3. , 5.5, 1.8],\n",
       "       [7.7, 3.8, 6.7, 2.2],\n",
       "       [7.7, 2.6, 6.9, 2.3],\n",
       "       [6. , 2.2, 5. , 1.5],\n",
       "       [6.9, 3.2, 5.7, 2.3],\n",
       "       [5.6, 2.8, 4.9, 2. ],\n",
       "       [7.7, 2.8, 6.7, 2. ],\n",
       "       [6.3, 2.7, 4.9, 1.8],\n",
       "       [6.7, 3.3, 5.7, 2.1],\n",
       "       [7.2, 3.2, 6. , 1.8],\n",
       "       [6.2, 2.8, 4.8, 1.8],\n",
       "       [6.1, 3. , 4.9, 1.8],\n",
       "       [6.4, 2.8, 5.6, 2.1],\n",
       "       [7.2, 3. , 5.8, 1.6],\n",
       "       [7.4, 2.8, 6.1, 1.9],\n",
       "       [7.9, 3.8, 6.4, 2. ],\n",
       "       [6.4, 2.8, 5.6, 2.2],\n",
       "       [6.3, 2.8, 5.1, 1.5],\n",
       "       [6.1, 2.6, 5.6, 1.4],\n",
       "       [7.7, 3. , 6.1, 2.3],\n",
       "       [6.3, 3.4, 5.6, 2.4],\n",
       "       [6.4, 3.1, 5.5, 1.8],\n",
       "       [6. , 3. , 4.8, 1.8],\n",
       "       [6.9, 3.1, 5.4, 2.1],\n",
       "       [6.7, 3.1, 5.6, 2.4],\n",
       "       [6.9, 3.1, 5.1, 2.3],\n",
       "       [5.8, 2.7, 5.1, 1.9],\n",
       "       [6.8, 3.2, 5.9, 2.3],\n",
       "       [6.7, 3.3, 5.7, 2.5],\n",
       "       [6.7, 3. , 5.2, 2.3],\n",
       "       [6.3, 2.5, 5. , 1.9],\n",
       "       [6.5, 3. , 5.2, 2. ],\n",
       "       [6.2, 3.4, 5.4, 2.3],\n",
       "       [5.9, 3. , 5.1, 1.8]])"
      ]
     },
     "execution_count": 30,
     "metadata": {},
     "output_type": "execute_result"
    }
   ],
   "source": [
    " iris.data"
   ]
  },
  {
   "cell_type": "markdown",
   "metadata": {
    "id": "0oJkizNmi0KG"
   },
   "source": [
    "And the target array:"
   ]
  },
  {
   "cell_type": "code",
   "execution_count": 31,
   "metadata": {
    "id": "Qmljccf5i0KH"
   },
   "outputs": [
    {
     "data": {
      "text/plain": [
       "array([0, 0, 0, 0, 0, 0, 0, 0, 0, 0, 0, 0, 0, 0, 0, 0, 0, 0, 0, 0, 0, 0,\n",
       "       0, 0, 0, 0, 0, 0, 0, 0, 0, 0, 0, 0, 0, 0, 0, 0, 0, 0, 0, 0, 0, 0,\n",
       "       0, 0, 0, 0, 0, 0, 1, 1, 1, 1, 1, 1, 1, 1, 1, 1, 1, 1, 1, 1, 1, 1,\n",
       "       1, 1, 1, 1, 1, 1, 1, 1, 1, 1, 1, 1, 1, 1, 1, 1, 1, 1, 1, 1, 1, 1,\n",
       "       1, 1, 1, 1, 1, 1, 1, 1, 1, 1, 1, 1, 2, 2, 2, 2, 2, 2, 2, 2, 2, 2,\n",
       "       2, 2, 2, 2, 2, 2, 2, 2, 2, 2, 2, 2, 2, 2, 2, 2, 2, 2, 2, 2, 2, 2,\n",
       "       2, 2, 2, 2, 2, 2, 2, 2, 2, 2, 2, 2, 2, 2, 2, 2, 2, 2])"
      ]
     },
     "execution_count": 31,
     "metadata": {},
     "output_type": "execute_result"
    }
   ],
   "source": [
    "iris.target"
   ]
  },
  {
   "cell_type": "markdown",
   "metadata": {
    "id": "0L-IZu_pi0KL"
   },
   "source": [
    "## Test/train splits"
   ]
  },
  {
   "cell_type": "markdown",
   "metadata": {
    "id": "B1OAvYbgi0KP"
   },
   "source": [
    "OK, now we need to split the dataset again in training and testing. Let's first assign the design matrix to X and the target to y:"
   ]
  },
  {
   "cell_type": "code",
   "execution_count": 32,
   "metadata": {
    "id": "DdRJ0Jv1i0KR"
   },
   "outputs": [],
   "source": [
    "X, y = iris.data[:, :2], iris.target\n",
    "# ! We only use 2 features for visual purposes\n"
   ]
  },
  {
   "cell_type": "markdown",
   "metadata": {
    "id": "pkgwS6vDi0KW"
   },
   "source": [
    "How many example do we have of each class?"
   ]
  },
  {
   "cell_type": "code",
   "execution_count": 33,
   "metadata": {
    "id": "HBppV5VKi0KX"
   },
   "outputs": [
    {
     "name": "stdout",
     "output_type": "stream",
     "text": [
      "Class labels: [0 1 2]\n",
      "Class proportions: [50 50 50]\n"
     ]
    }
   ],
   "source": [
    "print('Class labels:', np.unique(y))\n",
    "print('Class proportions:', np.bincount(y))"
   ]
  },
  {
   "cell_type": "markdown",
   "metadata": {
    "id": "qKUJP3isi0Kb"
   },
   "source": [
    "### Task 4: Split the dataset in 40% testing and 60% training sets.\n",
    "- How many examples of each class do you expect in the training set?\n",
    "- How many are there? What happened?\n",
    "- What happens if you don't shuffle?\n",
    "- Can you create datasets in which each class is equally distributed?"
   ]
  },
  {
   "cell_type": "code",
   "execution_count": 34,
   "metadata": {
    "id": "N-65bkHVi0Kd"
   },
   "outputs": [
    {
     "data": {
      "text/plain": [
       "(array([0, 1, 2]), array([30, 30, 30]))"
      ]
     },
     "execution_count": 34,
     "metadata": {},
     "output_type": "execute_result"
    }
   ],
   "source": [
    "X_train, X_test, y_train, y_test = train_test_split(\n",
    "        X, y, test_size=0.4, random_state=123, shuffle=True, stratify=y)\n",
    "\n",
    "np.unique(y_train, return_counts=True)"
   ]
  },
  {
   "cell_type": "markdown",
   "metadata": {
    "id": "PiE7DOodi0Kq"
   },
   "source": [
    "### Task 5: Plot the sepal length vs the sepal width of the training set for the different classes in a scatter plot. You can set different colors for the classes with `c=y_train`"
   ]
  },
  {
   "cell_type": "code",
   "execution_count": 35,
   "metadata": {
    "id": "NbKsWlxoi0Kr"
   },
   "outputs": [
    {
     "data": {
      "text/plain": [
       "Text(0, 0.5, 'Sepal Width')"
      ]
     },
     "execution_count": 35,
     "metadata": {},
     "output_type": "execute_result"
    },
    {
     "data": {
      "image/png": "[encoded data removed]",
      "text/plain": [
       "<Figure size 432x288 with 1 Axes>"
      ]
     },
     "metadata": {
      "needs_background": "light"
     },
     "output_type": "display_data"
    }
   ],
   "source": [
    "plt.scatter(X_train[:,0], X_train[:,1], c=y_train)\n",
    "plt.xlabel('Sepal Length')\n",
    "plt.ylabel('Sepal Width')"
   ]
  },
  {
   "cell_type": "markdown",
   "metadata": {
    "id": "L5bgYxwKi0Ku"
   },
   "source": [
    "## Logistic Regression"
   ]
  },
  {
   "cell_type": "markdown",
   "metadata": {
    "id": "fQkk8A5vi0Kv"
   },
   "source": [
    "Let's perform a classification using logistic regression:"
   ]
  },
  {
   "cell_type": "code",
   "execution_count": 36,
   "metadata": {
    "id": "Hi049nKJi0Kw"
   },
   "outputs": [],
   "source": [
    "from sklearn.linear_model import LogisticRegression\n",
    "\n",
    "lr = LogisticRegression(solver='newton-cg',\n",
    "                        multi_class='multinomial',\n",
    "                        random_state=42)\n",
    "\n",
    "lr.fit(X_train, y_train)\n",
    "y_pred = lr.predict(X_test)"
   ]
  },
  {
   "cell_type": "markdown",
   "metadata": {
    "id": "fZA8cd2Qi0Kz"
   },
   "source": [
    "OK, how do we evaluate the classification? We can chose one of the [classification performance measures](http://scikit-learn.org/stable/modules/model_evaluation.html#classification-metrics)."
   ]
  },
  {
   "cell_type": "code",
   "execution_count": 37,
   "metadata": {
    "id": "M7wE2jhPi0K0"
   },
   "outputs": [
    {
     "name": "stdout",
     "output_type": "stream",
     "text": [
      "Accuracy: 0.75\n",
      "Precision: 0.76\n",
      "Recall: 0.75\n"
     ]
    }
   ],
   "source": [
    "from sklearn.metrics import accuracy_score, precision_score, recall_score, classification_report\n",
    "print('Accuracy: %.2f' % accuracy_score(y_test, y_pred))\n",
    "print(\"Precision: %.2f\" % precision_score(y_test, y_pred, average='weighted'))\n",
    "print(\"Recall: %.2f\" % recall_score(y_test, y_pred, average='weighted'))\n"
   ]
  },
  {
   "cell_type": "markdown",
   "metadata": {
    "id": "FOkSsLeRi0K2"
   },
   "source": [
    "Or we use the classification report function:"
   ]
  },
  {
   "cell_type": "code",
   "execution_count": 38,
   "metadata": {
    "id": "qEZna1nUi0K3"
   },
   "outputs": [
    {
     "name": "stdout",
     "output_type": "stream",
     "text": [
      "Classification Report:\n",
      "               precision    recall  f1-score   support\n",
      "\n",
      "           0       1.00      1.00      1.00        20\n",
      "           1       0.67      0.50      0.57        20\n",
      "           2       0.60      0.75      0.67        20\n",
      "\n",
      "    accuracy                           0.75        60\n",
      "   macro avg       0.76      0.75      0.75        60\n",
      "weighted avg       0.76      0.75      0.75        60\n",
      "\n"
     ]
    }
   ],
   "source": [
    "print('Classification Report:\\n', classification_report(y_test, y_pred))"
   ]
  },
  {
   "cell_type": "markdown",
   "metadata": {
    "id": "JJNF655Bi0K6"
   },
   "source": [
    "Finally, we would like to plot the decision regions and our data in order to see how the classifier categorized the events. We have highlighted the test data."
   ]
  },
  {
   "cell_type": "code",
   "execution_count": null,
   "metadata": {
    "id": "gwmX4tKL7_4m"
   },
   "outputs": [],
   "source": []
  },
  {
   "cell_type": "markdown",
   "metadata": {
    "id": "B0QC6nTV8Atq"
   },
   "source": [
    "(Technicality) When running on Google Colab, we first need to update the *mlxtend* package, as Colab's default version of the packages is outdated:"
   ]
  },
  {
   "cell_type": "code",
   "execution_count": 39,
   "metadata": {
    "id": "Aftd74q08ARt"
   },
   "outputs": [
    {
     "name": "stdout",
     "output_type": "stream",
     "text": [
      "Requirement already satisfied: mlxtend in /home/bastian/anaconda3/envs/TUDortmundMLSeminar/lib/python3.6/site-packages (0.19.0)\n",
      "Collecting mlxtend\n",
      "  Using cached mlxtend-0.23.1-py3-none-any.whl (1.4 MB)\n",
      "Requirement already satisfied: scipy>=1.2.1 in /home/bastian/anaconda3/envs/TUDortmundMLSeminar/lib/python3.6/site-packages (from mlxtend) (1.5.2)\n",
      "Requirement already satisfied: matplotlib>=3.0.0 in /home/bastian/anaconda3/envs/TUDortmundMLSeminar/lib/python3.6/site-packages (from mlxtend) (3.3.4)\n",
      "Requirement already satisfied: pandas>=0.24.2 in /home/bastian/anaconda3/envs/TUDortmundMLSeminar/lib/python3.6/site-packages (from mlxtend) (1.1.5)\n",
      "  Using cached mlxtend-0.23.0-py3-none-any.whl (1.4 MB)\n",
      "  Using cached mlxtend-0.22.0-py2.py3-none-any.whl (1.4 MB)\n",
      "Requirement already satisfied: setuptools in /home/bastian/anaconda3/envs/TUDortmundMLSeminar/lib/python3.6/site-packages (from mlxtend) (58.0.4)\n",
      "  Using cached mlxtend-0.21.0-py2.py3-none-any.whl (1.3 MB)\n",
      "  Using cached mlxtend-0.20.0-py2.py3-none-any.whl (1.3 MB)\n",
      "Requirement already satisfied: scikit-learn>=0.20.3 in /home/bastian/anaconda3/envs/TUDortmundMLSeminar/lib/python3.6/site-packages (from mlxtend) (0.24.2)\n",
      "Requirement already satisfied: numpy>=1.16.2 in /home/bastian/anaconda3/envs/TUDortmundMLSeminar/lib/python3.6/site-packages (from mlxtend) (1.19.2)\n",
      "Requirement already satisfied: joblib>=0.13.2 in /home/bastian/anaconda3/envs/TUDortmundMLSeminar/lib/python3.6/site-packages (from mlxtend) (1.0.1)\n",
      "Requirement already satisfied: pyparsing!=2.0.4,!=2.1.2,!=2.1.6,>=2.0.3 in /home/bastian/anaconda3/envs/TUDortmundMLSeminar/lib/python3.6/site-packages (from matplotlib>=3.0.0->mlxtend) (3.0.4)\n",
      "Requirement already satisfied: kiwisolver>=1.0.1 in /home/bastian/anaconda3/envs/TUDortmundMLSeminar/lib/python3.6/site-packages (from matplotlib>=3.0.0->mlxtend) (1.3.1)\n",
      "Requirement already satisfied: cycler>=0.10 in /home/bastian/anaconda3/envs/TUDortmundMLSeminar/lib/python3.6/site-packages (from matplotlib>=3.0.0->mlxtend) (0.11.0)\n",
      "Requirement already satisfied: pillow>=6.2.0 in /home/bastian/anaconda3/envs/TUDortmundMLSeminar/lib/python3.6/site-packages (from matplotlib>=3.0.0->mlxtend) (8.3.1)\n",
      "Requirement already satisfied: python-dateutil>=2.1 in /home/bastian/anaconda3/envs/TUDortmundMLSeminar/lib/python3.6/site-packages (from matplotlib>=3.0.0->mlxtend) (2.8.2)\n",
      "Requirement already satisfied: pytz>=2017.2 in /home/bastian/anaconda3/envs/TUDortmundMLSeminar/lib/python3.6/site-packages (from pandas>=0.24.2->mlxtend) (2021.3)\n",
      "Requirement already satisfied: six>=1.5 in /home/bastian/anaconda3/envs/TUDortmundMLSeminar/lib/python3.6/site-packages (from python-dateutil>=2.1->matplotlib>=3.0.0->mlxtend) (1.16.0)\n",
      "Requirement already satisfied: threadpoolctl>=2.0.0 in /home/bastian/anaconda3/envs/TUDortmundMLSeminar/lib/python3.6/site-packages (from scikit-learn>=0.20.3->mlxtend) (2.2.0)\n",
      "Note: you may need to restart the kernel to use updated packages.\n"
     ]
    }
   ],
   "source": [
    "%pip install mlxtend --upgrade  #this needs to be run only once and will install the most recent version of the mlxtend package"
   ]
  },
  {
   "cell_type": "code",
   "execution_count": 40,
   "metadata": {
    "id": "tfRnnab_i0K7"
   },
   "outputs": [
    {
     "data": {
      "image/png": "[encoded data removed]",
      "text/plain": [
       "<Figure size 432x288 with 1 Axes>"
      ]
     },
     "metadata": {
      "needs_background": "light"
     },
     "output_type": "display_data"
    }
   ],
   "source": [
    "from mlxtend.plotting import plot_decision_regions\n",
    "\n",
    "plot_decision_regions(X=X, y=y, clf=lr, X_highlight=X_test, legend=2)\n",
    "plt.xlabel('sepal length [cm]')\n",
    "plt.xlabel('sepal width [cm]');"
   ]
  },
  {
   "cell_type": "markdown",
   "metadata": {
    "id": "jubkd-kAi0K9"
   },
   "source": [
    "## K-Nearest Neighbors"
   ]
  },
  {
   "cell_type": "markdown",
   "metadata": {
    "id": "cMY5bYMCi0K-"
   },
   "source": [
    "### Task 6 (Bonus): Perform a classification using [K-nearest neighbors classifier](http://scikit-learn.org/stable/modules/generated/sklearn.neighbors.KNeighborsClassifier.html), evaluate the performance and show the decision regions."
   ]
  },
  {
   "cell_type": "code",
   "execution_count": 43,
   "metadata": {
    "id": "ArLPd6Ayi0K_"
   },
   "outputs": [],
   "source": [
    "from sklearn.neighbors import KNeighborsClassifier\n",
    "\n",
    "knn = KNeighborsClassifier()\n",
    "\n",
    "knn.fit(X_train, y_train)\n",
    "y_pred = knn.predict(X_test)"
   ]
  },
  {
   "cell_type": "code",
   "execution_count": 44,
   "metadata": {},
   "outputs": [
    {
     "name": "stdout",
     "output_type": "stream",
     "text": [
      "Accuracy: 0.77\n",
      "Precision: 0.77\n",
      "Recall: 0.77\n"
     ]
    }
   ],
   "source": [
    "print('Accuracy: %.2f' % accuracy_score(y_test, y_pred))\n",
    "print(\"Precision: %.2f\" % precision_score(y_test, y_pred, average='weighted'))\n",
    "print(\"Recall: %.2f\" % recall_score(y_test, y_pred, average='weighted'))"
   ]
  },
  {
   "cell_type": "code",
   "execution_count": 45,
   "metadata": {},
   "outputs": [
    {
     "name": "stdout",
     "output_type": "stream",
     "text": [
      "Classification Report:\n",
      "               precision    recall  f1-score   support\n",
      "\n",
      "           0       1.00      1.00      1.00        20\n",
      "           1       0.69      0.55      0.61        20\n",
      "           2       0.62      0.75      0.68        20\n",
      "\n",
      "    accuracy                           0.77        60\n",
      "   macro avg       0.77      0.77      0.76        60\n",
      "weighted avg       0.77      0.77      0.76        60\n",
      "\n"
     ]
    }
   ],
   "source": [
    "print('Classification Report:\\n', classification_report(y_test, y_pred))"
   ]
  },
  {
   "cell_type": "code",
   "execution_count": 47,
   "metadata": {},
   "outputs": [
    {
     "data": {
      "image/png": "[encoded data removed]",
      "text/plain": [
       "<Figure size 432x288 with 1 Axes>"
      ]
     },
     "metadata": {
      "needs_background": "light"
     },
     "output_type": "display_data"
    }
   ],
   "source": [
    "plot_decision_regions(X=X, y=y, clf=knn, X_highlight=X_test, legend=2)\n",
    "plt.xlabel('sepal length [cm]')\n",
    "plt.xlabel('sepal width [cm]');"
   ]
  },
  {
   "cell_type": "code",
   "execution_count": null,
   "metadata": {},
   "outputs": [],
   "source": []
  }
 ],
 "metadata": {
  "accelerator": "GPU",
  "anaconda-cloud": {},
  "colab": {
   "collapsed_sections": [
    "gkOUTDGDl9-u",
    "FwMsIRJyi0HH",
    "8qpK5D5Li0HM",
    "si_nJ7oii0HN",
    "xz-LKCXQi0IZ",
    "0L-IZu_pi0KL",
    "qKUJP3isi0Kb",
    "PiE7DOodi0Kq",
    "cMY5bYMCi0K-"
   ],
   "provenance": []
  },
  "kernelspec": {
   "display_name": "TUDortmundMLSeminar",
   "language": "python",
   "name": "tudortmundmlseminar"
  },
  "language_info": {
   "codemirror_mode": {
    "name": "ipython",
    "version": 3
   },
   "file_extension": ".py",
   "mimetype": "text/x-python",
   "name": "python",
   "nbconvert_exporter": "python",
   "pygments_lexer": "ipython3",
   "version": "3.6.13"
  }
 },
 "nbformat": 4,
 "nbformat_minor": 4
}
