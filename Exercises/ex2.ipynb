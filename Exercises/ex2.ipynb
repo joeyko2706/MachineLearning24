{
  "nbformat": 4,
  "nbformat_minor": 0,
  "metadata": {
    "accelerator": "GPU",
    "colab": {
      "provenance": [],
      "collapsed_sections": [
        "6iH4QjSUGIyT"
      ]
    },
    "kernelspec": {
      "display_name": "Python 3",
      "language": "python",
      "name": "python3"
    },
    "language_info": {
      "codemirror_mode": {
        "name": "ipython",
        "version": 3
      },
      "file_extension": ".py",
      "mimetype": "text/x-python",
      "name": "python",
      "nbconvert_exporter": "python",
      "pygments_lexer": "ipython3",
      "version": "3.6.10"
    },
    "latex_envs": {
      "bibliofile": "biblio.bib",
      "cite_by": "apalike",
      "current_citInitial": 1,
      "eqLabelWithNumbers": true,
      "eqNumInitial": 0
    }
  },
  "cells": [
    {
      "cell_type": "markdown",
      "metadata": {
        "collapsed": true,
        "id": "E55-qk7sGIwQ"
      },
      "source": [
        "# Exercise 2 - Introduction to (Deep) Neural Networks"
      ]
    },
    {
      "cell_type": "markdown",
      "metadata": {
        "id": "zElDeZuyGIwU"
      },
      "source": [
        "This exercise uses some images and information from the [CERN Deep Learning Tutorial](https://github.com/YaleATLAS/CERNDeepLearningTutorial)"
      ]
    },
    {
      "cell_type": "markdown",
      "metadata": {
        "id": "3mSBVLVeGIwV"
      },
      "source": [
        "# Table of Contents\n",
        "\n",
        "* [1 Introduction to Keras](#Introduction-to-Keras)\n",
        "* [2 Breast cancer dataset](#Breast-cancer-dataset)\n",
        "    * [Loading the dataset](#Loading-the-dataset)\n",
        "    * [Plotting the dataset](#Plotting-the-dataset)\n",
        "    * [Preparing the dataset](#Preparing-the-dataset)\n",
        "* [3 Training a dense neural network](#3Training-a-dense-neural-network)\n",
        "    * [Neural network model](#Neural-network-model)\n",
        "    * [Build a simple neural network](#Build-a-simple-neural-network)"
      ]
    },
    {
      "cell_type": "markdown",
      "metadata": {
        "id": "-M_ondeNGIwX"
      },
      "source": [
        "# 1 Introduction to Keras"
      ]
    },
    {
      "cell_type": "markdown",
      "metadata": {
        "id": "1O0_37a0GIwY"
      },
      "source": [
        "  <a href='http://keras.io'><img src='https://s3.amazonaws.com/keras.io/img/keras-logo-2018-large-1200.png' height=120></a>\n",
        " *  Modular, powerful and intuitive Deep Learning Python library built on\n",
        " <center>\n",
        " <a href='http://deeplearning.net/software/theano/'><img src='https://upload.wikimedia.org/wikipedia/commons/thumb/5/55/Theano_logo.svg/200px-Theano_logo.svg.png' height=45 ></a> and\n",
        " <a href='https://www.tensorflow.org/'><img src='https://upload.wikimedia.org/wikipedia/commons/a/ab/TensorFlow_logo.svg' height=60 vertical_align='center'></a> and\n",
        " <a href='https://docs.microsoft.com/en-us/cognitive-toolkit/'><img src='https://developer.nvidia.com/sites/default/files/akamai/cuda/images/deeplearning/cntk.png' height=80 vertical_align='center'></a>\n",
        " </center>"
      ]
    },
    {
      "cell_type": "markdown",
      "metadata": {
        "id": "xjh9vXXQGIwZ"
      },
      "source": [
        "\n",
        "> <i>Developed with a focus on enabling fast experimentation. Being able to go from idea to result with the least possible delay is key to doing good research. </i>\n",
        "<div align=\"right\">\n",
        "  https://keras.io\n",
        "</div>\n",
        "\n",
        "*  Minimalist, user-friendly interface\n",
        "*  Extremely well documented, lots of <a href='https://github.com/fchollet/keras/tree/master/examples'>working examples</a>\n",
        "*  Very shallow learning curve $\\rightarrow$ by far one of the best tools for both beginners and experts\n",
        "*  Open-source, developed and maintained by a community of contributors, and publicly hosted on <a href='https://github.com/fchollet/keras'>GitHub</a>\n",
        "*  Extensible: possibility to customize layers\n",
        "\n",
        "From the Keras website:\n",
        "\n",
        "Guiding principles\n",
        "\n",
        "- User friendliness. Keras is an API designed for human beings, not machines. It puts user experience front and center. Keras follows best practices for reducing cognitive load: it offers consistent & simple APIs, it minimizes the number of user actions required for common use cases, and it provides clear and actionable feedback upon user error.\n",
        "\n",
        "- Modularity. A model is understood as a sequence or a graph of standalone, fully configurable modules that can be plugged together with as few restrictions as possible. In particular, neural layers, cost functions, optimizers, initialization schemes, activation functions and regularization schemes are all standalone modules that you can combine to create new models.\n",
        "\n",
        "- Easy extensibility. New modules are simple to add (as new classes and functions), and existing modules provide ample examples. To be able to easily create new modules allows for total expressiveness, making Keras suitable for advanced research.\n",
        "\n",
        "- Work with Python. No separate models configuration files in a declarative format. Models are described in Python code, which is compact, easier to debug, and allows for ease of extensibility.\n",
        "<div align=\"right\">\n",
        "  https://keras.io - 16.4.2020\n",
        "</div>\n"
      ]
    },
    {
      "cell_type": "markdown",
      "metadata": {
        "id": "eYV6hHcuRx6X"
      },
      "source": [
        "## 1.1 Tensorflow 2\n",
        "While Keras was previously an independent package serving as an high-level API for Tensorflow, it is now fully integrated in [Tensorflow 2.0](https://www.tensorflow.org/guide/keras)."
      ]
    },
    {
      "cell_type": "markdown",
      "metadata": {
        "id": "Mkx091Q1Q8q5"
      },
      "source": [
        "We will use Keras within Tensorflow 2 for all the following exercises. In order to use Tensorflow 2 in colab, we need to do some magic and then load it:\n"
      ]
    },
    {
      "cell_type": "code",
      "metadata": {
        "id": "3K3glZoGRKDh"
      },
      "source": [
        "#Check if colab is running\n",
        "import sys\n",
        "IN_COLAB = 'google.colab' in sys.modules\n",
        "\n",
        "if IN_COLAB:\n",
        "    %tensorflow_version 2.x\n",
        "\n",
        "#import TF\n",
        "import tensorflow as tf\n"
      ],
      "execution_count": null,
      "outputs": []
    },
    {
      "cell_type": "markdown",
      "metadata": {
        "id": "dol9_B9pRGFS"
      },
      "source": [
        "In the following we will check which TF version we have loaded, which python version we are using and if you have switched on the GPU runtime. It won't be important for this exercise, but you can choose between CPU, GPU and TPU (Tensor Processing Unit) by selecting in the menu `Runtime->Change runtime type`. Please select GPU in order to see the change. Also select Python 3 for all of the exercises."
      ]
    },
    {
      "cell_type": "code",
      "metadata": {
        "id": "zfu1eMJlGtZe"
      },
      "source": [
        "import json, os\n",
        "from platform import python_version\n",
        "\n",
        "# Tested with TensorFlow 2.12.0\n",
        "print('TF version={}, Python version={}, CUDA={}, GPU={}, TPU={}'.format(\n",
        "    tf.__version__, python_version(), tf.test.is_built_with_cuda(),\n",
        "    # GPU attached?\n",
        "    len(tf.config.list_physical_devices('GPU')) > 0,\n",
        "    # TPU accessible? (only works on Colab)\n",
        "    'COLAB_TPU_ADDR' in os.environ))"
      ],
      "execution_count": null,
      "outputs": []
    },
    {
      "cell_type": "markdown",
      "metadata": {
        "id": "ZHSrljtQGIwe"
      },
      "source": [
        "# 2 Breast cancer dataset"
      ]
    },
    {
      "cell_type": "markdown",
      "metadata": {
        "id": "dWcN855VGIwh"
      },
      "source": [
        "## Loading the dataset"
      ]
    },
    {
      "cell_type": "markdown",
      "metadata": {
        "id": "MvdNyrPcGIwj"
      },
      "source": [
        "### Task 1: For this exercise we want to use the breast cancer dataset from sci-kit learn. Prepare the dataset in the following way:\n",
        "* Load the dataset (`load_breast_cancer`), inspect it and create a pandas `DataFrame` with name `df`.\n",
        "* How many example and how many features do we have? What are the names of the classes? How many examples of each class do we have?\n",
        "* Plot the mean radius and the mean smoothness of the training data in a 2D scatter plot for the two classes.\n",
        "\n",
        "*hints*:\n",
        "- remember what you did in the section **Scikit-learn's in-build datasets** of the first exercise"
      ]
    },
    {
      "cell_type": "code",
      "metadata": {
        "id": "veRNvU2EGIwm"
      },
      "source": [
        "\n",
        "\n"
      ],
      "execution_count": null,
      "outputs": []
    },
    {
      "cell_type": "markdown",
      "metadata": {
        "id": "PXWgoQ78GIxO"
      },
      "source": [
        "## Plotting the dataset"
      ]
    },
    {
      "cell_type": "markdown",
      "metadata": {
        "id": "KY_uFY7gGIxU"
      },
      "source": [
        "Pandas has also some nice built-in plotting features, for instance you can plot the histograms of the features:"
      ]
    },
    {
      "cell_type": "code",
      "metadata": {
        "id": "pcnXlEHNGIxV"
      },
      "source": [
        "df[breast_cancer.feature_names[0:10]].hist(alpha=0.8, figsize=(20, 20))\n",
        "plt.show()"
      ],
      "execution_count": null,
      "outputs": []
    },
    {
      "cell_type": "markdown",
      "metadata": {
        "id": "P-W3JI7FGIxa"
      },
      "source": [
        "What if we are interested in how the shape of a distribution differs between the two classes? We could simply add the target to the DataFrame:\n",
        "\n",
        "\n",
        "*additional commment:*\n",
        "pandas performs nearly all operations **not inplace** which means, that you don't override the existing data frame unless you explicitly do it like shown below. Just calling df.assign(...) won't change df!*"
      ]
    },
    {
      "cell_type": "code",
      "metadata": {
        "id": "O6wMeGRDGIxb"
      },
      "source": [
        "df = df.assign(target=breast_cancer.target)\n",
        "df.keys()"
      ],
      "execution_count": null,
      "outputs": []
    },
    {
      "cell_type": "markdown",
      "metadata": {
        "id": "5CNAuVIeGIxf"
      },
      "source": [
        "And then use the useful groupby function and plot a kernel density estimate (kde) plot. kde is a very handy way to visualize a distribution without a lot of processing. A nice visualization of how a kde is produced and what it means can be found [here](https://mathisonian.github.io/kde/)."
      ]
    },
    {
      "cell_type": "code",
      "metadata": {
        "id": "2pJEh2kTGIxh"
      },
      "source": [
        "df.groupby(\"target\")[\"mean radius\"].plot(kind='kde', figsize=(10, 10))\n",
        "plt.legend(['malignant', 'benign'], loc='upper right')\n",
        "plt.xlabel('mean radius')"
      ],
      "execution_count": null,
      "outputs": []
    },
    {
      "cell_type": "markdown",
      "metadata": {
        "id": "C1MmdmISGIxk"
      },
      "source": [
        "Similarly, we could also plot the histogram:"
      ]
    },
    {
      "cell_type": "code",
      "metadata": {
        "id": "kuLWxM9xGIxm"
      },
      "source": [
        "df.groupby(\"target\")[\"mean radius\"].hist(alpha=0.6, figsize=(10, 10))\n",
        "plt.legend(['malignant', 'benign'], loc='upper right')\n",
        "plt.xlabel('mean radius')"
      ],
      "execution_count": null,
      "outputs": []
    },
    {
      "cell_type": "markdown",
      "metadata": {
        "id": "L1-dYwnCGIxq"
      },
      "source": [
        "From a DataFrame you can even plot the full scatter plot matrix:"
      ]
    },
    {
      "cell_type": "code",
      "metadata": {
        "id": "etN6zFY-GIxr",
        "scrolled": false
      },
      "source": [
        "from pandas.plotting import scatter_matrix\n",
        "scatter_matrix(df[breast_cancer.feature_names[0:10]], c=breast_cancer.target, alpha=0.8, figsize=(30, 30), s=20)\n",
        "plt.show()"
      ],
      "execution_count": null,
      "outputs": []
    },
    {
      "cell_type": "markdown",
      "metadata": {
        "id": "fwkuOhH5GIxv"
      },
      "source": [
        "Some of the input features seem highly correlated, so it usually makes sense to quantify their correlation to the other features.\n",
        "We will now use seaborn: statistical data visualization to obtain the (linear) correlations between the input features.\n",
        "\n",
        "https://seaborn.pydata.org/"
      ]
    },
    {
      "cell_type": "code",
      "metadata": {
        "id": "s6tg6xwFGIxw"
      },
      "source": [
        "import seaborn as sns\n",
        "plt.figure(figsize=(20,20))\n",
        "sns.heatmap(df[breast_cancer.feature_names[0:10]].corr(), annot=True, square=True, cmap='coolwarm')\n",
        "plt.show()"
      ],
      "execution_count": null,
      "outputs": []
    },
    {
      "cell_type": "markdown",
      "metadata": {
        "id": "JHRx0kjpGIx0"
      },
      "source": [
        "## Preparing the dataset"
      ]
    },
    {
      "cell_type": "markdown",
      "metadata": {
        "id": "odhgdkEkGIx2"
      },
      "source": [
        "Just like scikit-learn, Keras, takes as inputs the following objects:\n",
        " *  <h3>Design matrix $X$</h3>\n",
        " an `ndarray` of dimensions `[nb_examples, nb_features]` containing the distributions to be used as inputs to the model. Each row is an object to classify, each column corresponds to a specific variable.\n",
        " *  <h3>Target vector $y$</h3>\n",
        " an `array` of dimensions `[nb_examples]` containing the truth labels indicating the class each object belongs to (for classification), or the continuous target values (for regression).\n",
        " *  <h3>Weight vector $w$</h3>\n",
        " (optional) an `array` of dimensions `[nb_examples]` containing the weights to be assigned to each example\n",
        "\n",
        "The indices of these objects must map to the same examples."
      ]
    },
    {
      "cell_type": "markdown",
      "metadata": {
        "id": "ugL1f-PNGIx3"
      },
      "source": [
        "### Task 2: Create design matrix `X` and target vector `y` for the first 10 features. Split the data into 70% training data and 30% testing data\n",
        "* How many examples of each class are present in the dataset?\n",
        "* Which type does the design matrix have and how many data points are in it?\n",
        "* How many examples of each class are present in the training set?\n"
      ]
    },
    {
      "cell_type": "code",
      "metadata": {
        "id": "VKFLldYCGIx4"
      },
      "source": [
        "\n",
        "\n"
      ],
      "execution_count": null,
      "outputs": []
    },
    {
      "cell_type": "markdown",
      "metadata": {
        "id": "X30Xvl8wGIyH"
      },
      "source": [
        "It is common practice to scale the inputs to neural nets such that they have approximately similar ranges. Without this step, you might end up with variables whose values span very different orders of magnitude. This will create problems in the NN convergence due to very wild fluctuations in the magnitude of the internal weights. To take care of the scaling, we use the `sklearn` `StandardScaler`. The [StandardScaler](http://scikit-learn.org/stable/modules/generated/sklearn.preprocessing.StandardScaler.html) scales and shifts each feature individually so that the mean is 0 and the standard deviation is 1 afterwards.\n",
        "\n",
        "\n",
        "*additional comments:*\n",
        "\n",
        "For consistent testing of your models, you should fit the scalers to the training data only and transform the test data with the previously trained scaler. By this you take into account, that the test data set might include data points with feature values larger or smaller than the ones in the training set which reflects a more realistic scenario"
      ]
    },
    {
      "cell_type": "code",
      "metadata": {
        "id": "dHMyg4BbGIyI"
      },
      "source": [
        "from sklearn.preprocessing import StandardScaler"
      ],
      "execution_count": null,
      "outputs": []
    },
    {
      "cell_type": "code",
      "metadata": {
        "id": "87w1A9CmGIyM"
      },
      "source": [
        "scaler = StandardScaler()\n",
        "X_train = scaler.fit_transform(X_train)\n",
        "X_test = scaler.transform(X_test)"
      ],
      "execution_count": null,
      "outputs": []
    },
    {
      "cell_type": "markdown",
      "metadata": {
        "id": "h42VErCtGIyQ"
      },
      "source": [
        "# 3 Training a dense neural network"
      ]
    },
    {
      "cell_type": "markdown",
      "metadata": {
        "id": "kdT6i2S9GIyR"
      },
      "source": [
        "## Neural network model"
      ]
    },
    {
      "cell_type": "markdown",
      "metadata": {
        "id": "-6w6PELLGIyS"
      },
      "source": [
        "### Dense layer structure\n",
        " * Densely connected layer, where all inputs are connected to all outputs\n",
        " *  Linear transformation of the input vector $x \\in \\mathbb{R}^n$, which can be expressed using the $n \\times m$ matrix $W \\in \\mathbb{R}^{n \\times m}$ as:\n",
        "<center> $u = Wx + b$ </center>\n",
        "where $b \\in \\mathbb{R}^m$ is the bias unit\n",
        "\n",
        " *  All entries in both $W$ and $b$ are trainable\n",
        " *  In Keras:\n",
        " ```\n",
        "tensorflow.keras.layers.Dense((\n",
        "                    units,\n",
        "                    activation=None,\n",
        "                    use_bias=True,\n",
        "                    kernel_initializer='glorot_uniform',\n",
        "                    bias_initializer='zeros', kernel_regularizer=None,\n",
        "                    bias_regularizer=None,\n",
        "                    activity_regularizer=None,\n",
        "                    kernel_constraint=None,\n",
        "                    bias_constraint=None\n",
        ")\n",
        "```\n",
        "\n",
        " *  `input_dim` (or `input_shape`) are necessary arguments for the 1st layer of the net:\n",
        "\n",
        "```python\n",
        "\n",
        "# Build a simple sequential model with a dense layer\n",
        "from tensorflow.keras.models import Sequential\n",
        "model = Sequential()\n",
        "\n",
        "from tensorflow.keras.layers import Dense\n",
        "model.add(Dense(32, input_shape=(16,)))\n",
        "# now the model will take as input arrays of shape (*, 16)\n",
        "# and output arrays of shape (*, 32)\n",
        "\n",
        "# after the first layer, you don't need to specify\n",
        "# the size of the input anymore:\n",
        "model.add(Dense(32))\n",
        " ```\n",
        "\n"
      ]
    },
    {
      "cell_type": "markdown",
      "metadata": {
        "id": "6iH4QjSUGIyT"
      },
      "source": [
        "### Activation functions\n",
        " *  Mathematical way of quantifying the activation state of a node $\\rightarrow$ whether it's firing or not\n",
        " *  Non-linear activation functions are the key to Deep Learning\n",
        " *  Allow NNs to learn complex, non-linear transformations of the inputs\n",
        " *  Some common choices:"
      ]
    },
    {
      "cell_type": "code",
      "source": [
        "from matplotlib import pyplot as plt\n",
        "matplotlib.rcParams.update(matplotlib.rcParamsDefault)\n",
        "%matplotlib inline\n",
        "import numpy as np\n",
        "from math import exp\n",
        "xrange = np.arange(-3,3,1e-2)\n",
        "\n",
        "activation_functions = [\n",
        "    ('Sigmoid', r'$S(x)=\\frac{1}{1+e^{-x}}$', lambda x: 1/(1+exp(-x))),\n",
        "    ('tanh', r'$S(x)=\\frac{e^x-e^{-x}}{e^x+e^{-x}}$', lambda x: (exp(x)-exp(-x))/((exp(x)+exp(-x)))),\n",
        "    ('ReLu', r'$S(x)=\\genfrac{\\{}{}{0}{}{0 ~ if ~ x<0}{x ~ if ~ x\\geq0}$', lambda x: x if x>= 0 else 0),\n",
        "    ('Leaky ReLu', r'$S(x)=\\genfrac{\\{}{}{0}{}{0.01x ~ if ~ x<0}{x ~ if ~ x\\geq0}$', lambda x: x if x>= 0 else 0.01*x),\n",
        "]\n",
        "\n",
        "rows=len(activation_functions)\n",
        "fig = plt.figure(figsize=(10,2*rows))\n",
        "\n",
        "row = 0\n",
        "for label, formula, function in activation_functions:\n",
        "  label_ax = fig.add_subplot(rows,3,3*row+1)\n",
        "  label_ax.text(0, 0.5, label, fontsize=20)\n",
        "  label_ax.set_clip_on(False)\n",
        "  label_ax.axis('off')\n",
        "\n",
        "  formula_ax = fig.add_subplot(rows,3,3*row+2)\n",
        "  formula_ax.text(0, 0.5, formula, fontsize=20)\n",
        "  formula_ax.set_clip_on(False)\n",
        "  formula_ax.axis('off')\n",
        "\n",
        "  function_ax = fig.add_subplot(rows,3,3*row+3)\n",
        "  function_ax.plot(xrange,[ function(x) for x in xrange ])\n",
        "\n",
        "  row += 1\n",
        "\n",
        "plt.plot()"
      ],
      "metadata": {
        "colab": {
          "base_uri": "https://localhost:8080/",
          "height": 694
        },
        "id": "7HG_Km2_wgDi",
        "outputId": "633e28d5-4863-479d-a700-6ec3a026835f"
      },
      "execution_count": null,
      "outputs": [
        {
          "output_type": "execute_result",
          "data": {
            "text/plain": [
              "[]"
            ]
          },
          "metadata": {},
          "execution_count": 80
        },
        {
          "output_type": "display_data",
          "data": {
            "text/plain": [
              "<Figure size 1000x800 with 12 Axes>"
            ],
            "image/png": "[encoded data removed]"
          },
          "metadata": {}
        }
      ]
    },
    {
      "cell_type": "markdown",
      "source": [
        "\n",
        " [Learn how to use the activation functions in the model here.](https://keras.io/activations/)\n",
        "\n",
        " [Available activations:](https://keras.io/activations/#available-activations/)\n",
        "* **softmax**, **elu**, **selu**, **softplus**, **softsign**, **relu**, **tanh**, **sigmoid**, **hard_sigmoid**,**exponential**, **linear**\n",
        "\n",
        " [Advanced Activation:](https://keras.io/layers/advanced-activations/)\n",
        "* **LeakyReLU**, **PReLU**, **ThresholdedReLU**,\n"
      ],
      "metadata": {
        "id": "SO7DWg0f8y2H"
      }
    },
    {
      "cell_type": "markdown",
      "metadata": {
        "id": "1kiRry-dGIyU"
      },
      "source": [
        "### Loss functions\n",
        "* Mathematical way of quantifying how much ŷ deviates from y\n",
        "* Dictates how strongly we penalize certain types of mistakes\n",
        "* Cost of inaccurately classifying an event\n",
        "* Many loss functions available in kears (https://keras.io/losses/)\n",
        "* the loss function needs to be chosen depending on the problem. A commonly used loss for regression is **mse** (mean squared error), a common loss for classification is **binary-crossentropy** (also known as log-likelihood-loss)"
      ]
    },
    {
      "cell_type": "markdown",
      "metadata": {
        "id": "xUOc77olGIyW"
      },
      "source": [
        "## Build a simple neural network"
      ]
    },
    {
      "cell_type": "code",
      "metadata": {
        "id": "LOifXXvuGIyX"
      },
      "source": [
        "from tensorflow.keras.models import Sequential\n",
        "\n",
        "model = Sequential()"
      ],
      "execution_count": null,
      "outputs": []
    },
    {
      "cell_type": "code",
      "metadata": {
        "id": "y5fRw2aFGIyb"
      },
      "source": [
        "from tensorflow.keras.layers import Dense"
      ],
      "execution_count": null,
      "outputs": []
    },
    {
      "cell_type": "code",
      "metadata": {
        "id": "DsX7YEglGIye",
        "scrolled": true
      },
      "source": [
        "model.add(Dense(units=11, activation='relu', input_dim=10))\n",
        "model.add(Dense(units=1, activation='sigmoid'))"
      ],
      "execution_count": null,
      "outputs": []
    },
    {
      "cell_type": "code",
      "metadata": {
        "id": "Zj57CsGtGIyi"
      },
      "source": [
        "model.summary()"
      ],
      "execution_count": null,
      "outputs": []
    },
    {
      "cell_type": "markdown",
      "metadata": {
        "id": "Ku92PE89GIym"
      },
      "source": [
        "Let's visualize our net:"
      ]
    },
    {
      "cell_type": "code",
      "metadata": {
        "id": "rffUnWciGIyn"
      },
      "source": [
        "from IPython.display import Image\n",
        "from keras.utils import plot_model\n",
        "plot_model(model, to_file='model_plot.png', show_shapes=True, show_layer_names=False)\n",
        "Image('model_plot.png')\n"
      ],
      "execution_count": null,
      "outputs": []
    },
    {
      "cell_type": "markdown",
      "metadata": {
        "id": "lktxxhuPGIyq"
      },
      "source": [
        "Another nice tool for more complicated models is Net2Vis: https://viscom.net2vis.uni-ulm.de/"
      ]
    },
    {
      "cell_type": "markdown",
      "metadata": {
        "id": "9xot1cD7GIyv"
      },
      "source": [
        "OK, that is a rather simple model, but let's define a loss function, an optimizer, a performance metric and compile it:\n",
        "\n",
        "*additional comments:*\n",
        "\n",
        "To \"compile\" a model in Keras mainly referrs to making it ready for the training methods. This includes collecting the trainable weights of the model and configuring the optimizer with the weights and the according loss."
      ]
    },
    {
      "cell_type": "code",
      "metadata": {
        "id": "yY8CLjanGIyw"
      },
      "source": [
        "model.compile(loss='mse', optimizer='adam', metrics=['mae', 'accuracy'])"
      ],
      "execution_count": null,
      "outputs": []
    },
    {
      "cell_type": "markdown",
      "metadata": {
        "id": "nUrjIuqhGIy0"
      },
      "source": [
        "### Training"
      ]
    },
    {
      "cell_type": "markdown",
      "metadata": {
        "id": "K-I00MwUGIy1"
      },
      "source": [
        "In order to train the model, we pass the training data to the fit function. However, part of the training data will be used as validation data, which is used during the training to evaluate the training process.\n",
        "\n",
        "The fit method returns an object containing the training progress including the specified loss and passed metrics. We will save it in a variable called history. The actual progress will be available in a dict in history.history, you will work with it after the training."
      ]
    },
    {
      "cell_type": "code",
      "metadata": {
        "id": "FRLg8liDGIy2"
      },
      "source": [
        "# x_train and y_train are Numpy arrays --just like in the Scikit-Learn API.\n",
        "history = model.fit(X_train, y_train, validation_split=0.3, epochs=100, batch_size=8)"
      ],
      "execution_count": null,
      "outputs": []
    },
    {
      "cell_type": "markdown",
      "metadata": {
        "id": "K3_JM63dGIy5"
      },
      "source": [
        "During the training process we have saved the loss and the accuracy of the training and validation data:"
      ]
    },
    {
      "cell_type": "code",
      "metadata": {
        "id": "tDuphv7lGIy6"
      },
      "source": [
        "print(history.history.keys())"
      ],
      "execution_count": null,
      "outputs": []
    },
    {
      "cell_type": "markdown",
      "metadata": {
        "id": "L-BS5UdBGIy-"
      },
      "source": [
        "We can now plot the loss evolution over the training epochs for the training and validation dataset:"
      ]
    },
    {
      "cell_type": "code",
      "metadata": {
        "id": "OuxfJoUvGIy_"
      },
      "source": [
        "# summarize history for loss\n",
        "plt.plot(history.history['loss'])\n",
        "plt.plot(history.history['val_loss'])\n",
        "plt.title('model loss')\n",
        "plt.ylabel('loss')\n",
        "plt.xlabel('epoch')\n",
        "plt.legend(['training', 'validation'], loc='upper right')\n",
        "plt.show()"
      ],
      "execution_count": null,
      "outputs": []
    },
    {
      "cell_type": "markdown",
      "metadata": {
        "id": "n4SXij6Dm04Z"
      },
      "source": [
        "*additional comments*:\n",
        "If you run the cell containing the training again, it will pick up where it stopped before. The optimizer still holds the trained weights from before, the model is not reset. If you want to really restart the training, you either need to build your model again."
      ]
    },
    {
      "cell_type": "markdown",
      "metadata": {
        "id": "wH1RDof2GIzD"
      },
      "source": [
        "Similarly, we can plot the accuracy"
      ]
    },
    {
      "cell_type": "code",
      "metadata": {
        "id": "gWgrK3naGIzE"
      },
      "source": [
        "# summarize history for accuracy\n",
        "plt.plot(history.history['accuracy'])\n",
        "plt.plot(history.history['val_accuracy'])\n",
        "plt.title('model accuracy')\n",
        "plt.ylabel('accuracy')\n",
        "plt.xlabel('epoch')\n",
        "plt.legend(['training', 'validation'], loc='lower right')\n",
        "plt.show()"
      ],
      "execution_count": null,
      "outputs": []
    },
    {
      "cell_type": "markdown",
      "metadata": {
        "id": "KYuiy9kiGIzI"
      },
      "source": [
        "### Evaluation"
      ]
    },
    {
      "cell_type": "markdown",
      "metadata": {
        "id": "3W6pjAtfGIzJ"
      },
      "source": [
        "Let's evaluate the loss and accuracy on our test data:"
      ]
    },
    {
      "cell_type": "code",
      "metadata": {
        "id": "nTxnPKlZGIzK"
      },
      "source": [
        "loss_and_metrics = model.evaluate(X_test, y_test, batch_size=8)\n",
        "print(loss_and_metrics)"
      ],
      "execution_count": null,
      "outputs": []
    },
    {
      "cell_type": "markdown",
      "metadata": {
        "id": "8QGPmZBIGIzO"
      },
      "source": [
        "Let's predict classes for our test data:"
      ]
    },
    {
      "cell_type": "code",
      "metadata": {
        "id": "-POSTm1qGIzP"
      },
      "source": [
        "print('Testing...')\n",
        "y_pred = model.predict(X_test, verbose = True, batch_size=8)"
      ],
      "execution_count": null,
      "outputs": []
    },
    {
      "cell_type": "code",
      "metadata": {
        "id": "AfTBduewGIzU",
        "scrolled": false
      },
      "source": [
        "# predictions\n",
        "y_pred"
      ],
      "execution_count": null,
      "outputs": []
    },
    {
      "cell_type": "markdown",
      "metadata": {
        "id": "tNZXEItXGIzZ"
      },
      "source": [
        "### Task 3: Plot the output prediction for malignant and benign breast cancer showing the separation between these two classes."
      ]
    },
    {
      "cell_type": "code",
      "metadata": {
        "id": "-vHcFXmxgBc_"
      },
      "source": [
        "\n",
        "\n"
      ],
      "execution_count": null,
      "outputs": []
    },
    {
      "cell_type": "markdown",
      "metadata": {
        "id": "IWlF5Zt0GIzm"
      },
      "source": [
        "How do we decide now to which class the test example needs to assigned based on our prediction? Intuitively, we could simply convert our predictions into classes by using a threshold of 0.5:"
      ]
    },
    {
      "cell_type": "code",
      "metadata": {
        "id": "LGy1kXc_GIzn"
      },
      "source": [
        "y_cls=np.where(y_pred > 0.5, 1, 0)\n",
        "print(y_cls)"
      ],
      "execution_count": null,
      "outputs": []
    },
    {
      "cell_type": "markdown",
      "metadata": {
        "id": "BMTqwOjBGIzt"
      },
      "source": [
        "### Task 4: Use the scikit learn metrics to evaluate the model\n",
        "*hints:*\n",
        "- remember to import e. g. accuracy_score, precision_score, recall_score, classification_report from the metrics module from sklearn"
      ]
    },
    {
      "cell_type": "code",
      "metadata": {
        "id": "8OyickkcGIzu"
      },
      "source": [
        "\n",
        "\n"
      ],
      "execution_count": null,
      "outputs": []
    },
    {
      "cell_type": "markdown",
      "metadata": {
        "id": "v6GPScUjGIz0"
      },
      "source": [
        "Now, let's use scikit learn also to plot the ROC curve and calculate the AUC. An understandable article on what the ROC and AUC are, can be found [here](https://developers.google.com/machine-learning/crash-course/classification/roc-and-auc)."
      ]
    },
    {
      "cell_type": "code",
      "metadata": {
        "id": "YC7bjIMDGIz1"
      },
      "source": [
        "from sklearn.metrics import roc_curve, auc\n",
        "fpr, tpr, thresholds = roc_curve(y_test, y_pred.ravel())\n",
        "auc = auc(fpr, tpr)\n",
        "plt.figure(1)\n",
        "plt.plot([0, 1], [0, 1], 'k--')\n",
        "plt.plot(fpr, tpr, label='NN (area = {:.3f})'.format(auc))\n",
        "plt.xlabel('False positive rate')\n",
        "plt.ylabel('True positive rate')\n",
        "plt.title('ROC curve')\n",
        "plt.legend(loc='best')\n",
        "plt.show()"
      ],
      "execution_count": null,
      "outputs": []
    },
    {
      "cell_type": "markdown",
      "metadata": {
        "collapsed": true,
        "id": "3wtofqhoGIz4"
      },
      "source": [
        "## Task 5 (Bonus): Change the neural network model and study the impact on the performance\n",
        "* Make the neural network wider\n",
        "* Make the neural network deeper\n",
        "* Change the activation function of the hidden nodes\n",
        "* Change the activation function of the output node\n",
        "* Change the loss function, which ones are allowed?\n",
        "* Which neural network gives the best performance?"
      ]
    }
  ]
}